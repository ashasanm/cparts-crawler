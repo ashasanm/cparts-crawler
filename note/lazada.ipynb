{
 "cells": [
  {
   "cell_type": "code",
   "execution_count": 1,
   "metadata": {},
   "outputs": [],
   "source": [
    "import json\n",
    "import csv\n",
    "import time\n",
    "from pprint import pprint\n",
    "\n",
    "from selenium.webdriver import Chrome\n",
    "from selenium.webdriver.chrome.options import Options\n",
    "from selenium.webdriver.common.keys import Keys\n",
    "from selenium.webdriver.common.by import By\n",
    "from selenium.webdriver.support.ui import WebDriverWait\n",
    "from selenium.webdriver.support import expected_conditions as EC\n",
    "from selenium.common.exceptions import TimeoutException, NoSuchElementException, InvalidArgumentException"
   ]
  },
  {
   "cell_type": "code",
   "execution_count": 10,
   "metadata": {},
   "outputs": [],
   "source": [
    "def open_browser():\n",
    "    options = Options()\n",
    "    options.add_argument('--user-agent=\"Mozilla/5.0 (Windows NT 10.0; Win64; x64) AppleWebKit/537.36 (KHTML, like Gecko) Chrome/95.0.4638.54 Safari/537.36\"')\n",
    "    # options.add_argument(\"--start-maximized\")\n",
    "    driver = Chrome(executable_path=\"..\\chromedriver\\chromedriver.exe\", options=options)\n",
    "    driver.implicitly_wait(10)\n",
    "\n",
    "    return driver"
   ]
  },
  {
   "cell_type": "code",
   "execution_count": 11,
   "metadata": {},
   "outputs": [],
   "source": [
    "main_browser = open_browser()"
   ]
  },
  {
   "cell_type": "code",
   "execution_count": 12,
   "metadata": {},
   "outputs": [],
   "source": [
    "main_browser.get(\"https://www.lazada.com\")"
   ]
  },
  {
   "cell_type": "code",
   "execution_count": 14,
   "metadata": {},
   "outputs": [],
   "source": [
    "def find_product(main_browser, product):\n",
    "    searchbar = main_browser.find_element_by_xpath('//*[@id=\"q\"]')\n",
    "    searchbar.click()\n",
    "    searchbar.send_keys(product)\n",
    "    searchbar.send_keys(Keys.ENTER)\n",
    "\n",
    "find_product(main_browser, product=\"GTX 1050\")"
   ]
  },
  {
   "cell_type": "code",
   "execution_count": 15,
   "metadata": {},
   "outputs": [],
   "source": [
    "def scroll(main_browser, scroll_num):\n",
    "    for i in range(scroll_num+1):\n",
    "        main_browser.find_element_by_xpath('/html/body').send_keys(Keys.PAGE_DOWN)\n",
    "\n",
    "scroll(main_browser, scroll_num=10)"
   ]
  },
  {
   "cell_type": "code",
   "execution_count": 17,
   "metadata": {},
   "outputs": [],
   "source": [
    "def get_links(main_browser):\n",
    "    link_xpath = '//*[@id=\"root\"]/div/div[2]/div[1]/div/div[1]/div[2]/div/div/div/div[1]/div/a'\n",
    "    links = main_browser.find_elements_by_xpath(link_xpath)\n",
    "    urls = [link.get_attribute('href') for link in links]\n",
    "    return urls"
   ]
  },
  {
   "cell_type": "code",
   "execution_count": 18,
   "metadata": {},
   "outputs": [],
   "source": [
    "def get_detail(sub_browser):\n",
    "    title = sub_browser.find_element_by_xpath('//*[@id=\"module_product_title_1\"]/div/div/h1')\n",
    "    price = sub_browser.find_element_by_xpath('//*[@id=\"module_product_price_1\"]/div/div/span')\n",
    "    sold = \"\"\n",
    "    city = \"\"\n",
    "\n",
    "    detail = {\n",
    "        \"title\": title,\n",
    "        \"price\": price,\n",
    "        \"sold\": \"\",\n",
    "        \"city\": \"\",\n",
    "    }\n",
    "\n",
    "    return detail"
   ]
  },
  {
   "cell_type": "code",
   "execution_count": 3,
   "metadata": {},
   "outputs": [
    {
     "name": "stdout",
     "output_type": "stream",
     "text": [
      "test\n",
      "job\n",
      "job\n",
      "job\n",
      "job\n",
      "job\n",
      "test\n",
      "test\n",
      "test\n",
      "test\n"
     ]
    }
   ],
   "source": [
    "test = 0\n",
    "job = 0\n",
    "while test < 5:\n",
    "    print(\"test\")\n",
    "    test += 1\n",
    "    while job < 5:\n",
    "        print(\"job\")\n",
    "        job += 1"
   ]
  }
 ],
 "metadata": {
  "interpreter": {
   "hash": "7c22713cfbae5454d99b042973cb83eb262d6f1a825e1d76f9c854b699a166f8"
  },
  "kernelspec": {
   "display_name": "Python 3.7.6 64-bit ('base': conda)",
   "name": "python3"
  },
  "language_info": {
   "codemirror_mode": {
    "name": "ipython",
    "version": 3
   },
   "file_extension": ".py",
   "mimetype": "text/x-python",
   "name": "python",
   "nbconvert_exporter": "python",
   "pygments_lexer": "ipython3",
   "version": "3.7.6"
  },
  "orig_nbformat": 4
 },
 "nbformat": 4,
 "nbformat_minor": 2
}
