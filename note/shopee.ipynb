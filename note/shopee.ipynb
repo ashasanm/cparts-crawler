{
 "cells": [
  {
   "cell_type": "code",
   "execution_count": 1,
   "metadata": {},
   "outputs": [],
   "source": [
    "import json\n",
    "import csv\n",
    "import time\n",
    "from pprint import pprint\n",
    "\n",
    "from selenium.webdriver import Chrome\n",
    "from selenium.webdriver.chrome.options import Options\n",
    "from selenium.webdriver.common.keys import Keys \n",
    "from selenium.webdriver.common.by import By\n",
    "from selenium.webdriver.support.ui import WebDriverWait\n",
    "from selenium.webdriver.support import expected_conditions as EC\n",
    "from selenium.common.exceptions import TimeoutException, NoSuchElementException, InvalidArgumentException"
   ]
  },
  {
   "cell_type": "code",
   "execution_count": 2,
   "metadata": {},
   "outputs": [],
   "source": [
    "options = Options()\n",
    "options.add_argument(\"--start-maximized\")\n",
    "options.add_argument('--user-agent=\"Mozilla/5.0 (Windows NT 10.0; Win64; x64) AppleWebKit/537.36 (KHTML, like Gecko) Chrome/95.0.4638.54 Safari/537.36\"')\n",
    "options.add_argument('disable-infobars')\n",
    "options.add_argument('--disable-extensions')\n",
    "options.add_argument('--disable-blink-features=AutomationControlled')\n",
    "driver = Chrome(executable_path=\"..\\chromedriver\\chromedriver.exe\", options=options)"
   ]
  },
  {
   "cell_type": "code",
   "execution_count": 3,
   "metadata": {},
   "outputs": [],
   "source": [
    "driver.get(\"https://shopee.co.id/\")"
   ]
  },
  {
   "cell_type": "code",
   "execution_count": 10,
   "metadata": {},
   "outputs": [
    {
     "name": "stdout",
     "output_type": "stream",
     "text": [
      "KOTA BALIKPAPAN - BALIKPAPAN SELATAN, KALIMANTAN TIMUR, ID\n"
     ]
    }
   ],
   "source": [
    "city_xpath = '//*[text() = \"Dikirim Dari\"]/following-sibling::div'\n",
    "test = driver.find_element_by_xpath(city_xpath)\n",
    "print(test.text)"
   ]
  },
  {
   "cell_type": "code",
   "execution_count": 13,
   "metadata": {},
   "outputs": [
    {
     "ename": "AttributeError",
     "evalue": "'NoneType' object has no attribute 'click'",
     "output_type": "error",
     "traceback": [
      "\u001b[1;31m---------------------------------------------------------------------------\u001b[0m",
      "\u001b[1;31mAttributeError\u001b[0m                            Traceback (most recent call last)",
      "\u001b[1;32m<ipython-input-13-dfe793c7640b>\u001b[0m in \u001b[0;36m<module>\u001b[1;34m\u001b[0m\n\u001b[0;32m      2\u001b[0m     \u001b[0mpopup\u001b[0m \u001b[1;33m=\u001b[0m \u001b[0mdriver\u001b[0m\u001b[1;33m.\u001b[0m\u001b[0mexecute_script\u001b[0m\u001b[1;33m(\u001b[0m\u001b[1;34m\"return document.querySelector('.shopee-popup__close-btn')\"\u001b[0m\u001b[1;33m)\u001b[0m\u001b[1;33m\u001b[0m\u001b[1;33m\u001b[0m\u001b[0m\n\u001b[0;32m      3\u001b[0m     \u001b[0mpopup\u001b[0m\u001b[1;33m.\u001b[0m\u001b[0mclick\u001b[0m\u001b[1;33m(\u001b[0m\u001b[1;33m)\u001b[0m\u001b[1;33m\u001b[0m\u001b[1;33m\u001b[0m\u001b[0m\n\u001b[1;32m----> 4\u001b[1;33m \u001b[0mclose_ad\u001b[0m\u001b[1;33m(\u001b[0m\u001b[1;33m)\u001b[0m\u001b[1;33m\u001b[0m\u001b[1;33m\u001b[0m\u001b[0m\n\u001b[0m",
      "\u001b[1;32m<ipython-input-13-dfe793c7640b>\u001b[0m in \u001b[0;36mclose_ad\u001b[1;34m()\u001b[0m\n\u001b[0;32m      1\u001b[0m \u001b[1;32mdef\u001b[0m \u001b[0mclose_ad\u001b[0m\u001b[1;33m(\u001b[0m\u001b[1;33m)\u001b[0m\u001b[1;33m:\u001b[0m\u001b[1;33m\u001b[0m\u001b[1;33m\u001b[0m\u001b[0m\n\u001b[0;32m      2\u001b[0m     \u001b[0mpopup\u001b[0m \u001b[1;33m=\u001b[0m \u001b[0mdriver\u001b[0m\u001b[1;33m.\u001b[0m\u001b[0mexecute_script\u001b[0m\u001b[1;33m(\u001b[0m\u001b[1;34m\"return document.querySelector('.shopee-popup__close-btn')\"\u001b[0m\u001b[1;33m)\u001b[0m\u001b[1;33m\u001b[0m\u001b[1;33m\u001b[0m\u001b[0m\n\u001b[1;32m----> 3\u001b[1;33m     \u001b[0mpopup\u001b[0m\u001b[1;33m.\u001b[0m\u001b[0mclick\u001b[0m\u001b[1;33m(\u001b[0m\u001b[1;33m)\u001b[0m\u001b[1;33m\u001b[0m\u001b[1;33m\u001b[0m\u001b[0m\n\u001b[0m\u001b[0;32m      4\u001b[0m \u001b[0mclose_ad\u001b[0m\u001b[1;33m(\u001b[0m\u001b[1;33m)\u001b[0m\u001b[1;33m\u001b[0m\u001b[1;33m\u001b[0m\u001b[0m\n",
      "\u001b[1;31mAttributeError\u001b[0m: 'NoneType' object has no attribute 'click'"
     ]
    }
   ],
   "source": [
    "def close_ad():\n",
    "    popup = driver.execute_script(\"return document.querySelector('.shopee-popup__close-btn')\")\n",
    "    popup.click()\n",
    "close_ad()"
   ]
  },
  {
   "cell_type": "code",
   "execution_count": 5,
   "metadata": {},
   "outputs": [],
   "source": [
    "def find_product(product_name):\n",
    "    search_bar = driver.find_element_by_xpath('//*[@id=\"main\"]/div/div[2]/div[1]/div[2]/div/div[1]/div[1]/div/form/input')\n",
    "    search_bar.click()\n",
    "    search_bar.send_keys(product_name)\n",
    "    search_bar.send_keys(Keys.ENTER)\n",
    "        \n",
    "find_product(product_name='gtx 1660')"
   ]
  },
  {
   "cell_type": "code",
   "execution_count": 21,
   "metadata": {},
   "outputs": [],
   "source": [
    "def get_detail(self, driver, link):\n",
    "    print(\"loading content..\")\n",
    "    driver.get(link)\n",
    "    \n",
    "    title_xpath = '//*[@id=\"main\"]/div/div[2]/div[2]/div/div[1]/div[3]/div/div[1]/span'\n",
    "    price_xpath = '//*[@id=\"main\"]/div/div[2]/div[2]/div/div[1]/div[3]/div/div[3]/div/div/div/div/div/div'\n",
    "    sold_xpath = '//*[@id=\"main\"]/div/div[2]/div[2]/div/div[1]/div[3]/div/div[2]/div[2]/div[1]'\n",
    "    city_xpath = '/html/body/div[1]/div/div[2]/div[2]/div/div[2]/div[2]/div[1]/div[1]/div[1]/div[2]/div/div'\n",
    "                \n",
    "                    \n",
    "    xpaths = [title_xpath, price_xpath, sold_xpath, city_xpath]\n",
    "    details = xpaths\n",
    "\n",
    "    result = {\n",
    "        'marketplace': 'shopee',\n",
    "        'title': details[0],\n",
    "        'price': clean_price(details[1]),\n",
    "        'sold': clean_sold(details[2]),\n",
    "        'city': details[3],\n",
    "        'link': driver.current_url,\n",
    "        'extraction_date':datetime.now().strftime(\"%Y-%m-%d\")\n",
    "    }\n",
    "    print(\"content extracted..\")\n",
    "    pprint(result)\n",
    "\n",
    "    return result"
   ]
  },
  {
   "cell_type": "code",
   "execution_count": 22,
   "metadata": {},
   "outputs": [],
   "source": [
    "def scroll_to_bottom():\n",
    "    for i in range(5):\n",
    "        driver.find_element_by_xpath(\"/html/body\").send_keys(Keys.PAGE_DOWN)"
   ]
  },
  {
   "cell_type": "code",
   "execution_count": 23,
   "metadata": {},
   "outputs": [
    {
     "name": "stdout",
     "output_type": "stream",
     "text": [
      "['https://shopee.co.id/search?keyword=masker', 'https://shopee.co.id/search?keyword=tas%20selempang%20wanita', 'https://shopee.co.id/search?keyword=daster', 'https://shopee.co.id/search?keyword=sepatu%20wanita', 'https://shopee.co.id/search?keyword=tas', 'https://shopee.co.id/search?keyword=sandal%20wanita', 'https://shopee.co.id/search?keyword=jam%20tangan%20wanita', 'https://shopee.co.id/search?keyword=boneka%20boba', 'https://shopee.co.id/msi-ventus-rtx-2060-i.100831827.10060960426?sp_atk=8e64a610-262f-4667-b546-05f787122e2f', 'https://shopee.co.id/VGA-ASUS-RTX-2060-DUAL-Evo-6GB-DDR6-Garansi-Resmi-i.338201876.12118833172?sp_atk=348a0653-4cff-4fb1-b021-1e96879d13d5', 'https://shopee.co.id/VGA-GIGABYTE-RTX-2060-D6-GDDR6-6GB-i.40255781.11652671871?sp_atk=c2b1e1f1-3a2c-43f2-9ecf-01287009b26a', 'https://shopee.co.id/RTX-2060-(Garansi-ON)-Gaming-Only-i.39701915.12329466414?sp_atk=24ab51dc-c71f-40a0-a4f4-5cae559ab85d', 'https://shopee.co.id/VGA-PNY-RTX-2060-XLR8-GAMING-6GB-i.180812520.11161972624?sp_atk=4d4d1911-a920-4e25-9a2c-5f945a25439e', 'https://shopee.co.id/GIGABYTE-GEFORCE-RTX-2060-D6-6G-192-BIT-NON-LHR-i.169001879.11061807284?sp_atk=fb095a43-e411-424d-9316-b4fab112412c', 'https://shopee.co.id/Asus-RTX-2060-Dual-Evo-OC-8GB-GDDR6-i.12620121.11661870056?sp_atk=a7f30292-9678-4683-acdf-cdc58069a28f', 'https://shopee.co.id/VGA-GALAX-RTX-2060-SUPER-8GB-GDDR6-i.560414350.12731832044?sp_atk=e2ad8525-fd1b-4ae3-a540-5ce743846383', 'https://shopee.co.id/VGA-GTX-1660-SUPER-6GB-RTX-2060-8GB-SUPER-DDR6-1650-1050Ti-RX-550-4GB-DDR5-NVIDIA-GRAPHIC-CARD-MURAH-i.494861020.3087339098?sp_atk=a5f5162f-7c05-4e84-b327-1cd6d501cd85', 'https://shopee.co.id/EVGA-RTX-2060-Super-8GB-GDDR6-SC-Ultra-i.49370632.11462534462?sp_atk=4b4a8f89-143c-4ca3-bb78-7aa4626abcd3', 'https://shopee.co.id/zotac-rtx-2060-amp-6gb-second-i.4811167.12529257680?sp_atk=30698ad7-3f7b-46b8-9999-80b7734aeb6c', 'https://shopee.co.id/VGA-GIGABYTE-GeForce-RTX-2060-6GB-DDR6-i.270480516.13529560225?sp_atk=06285e2d-d1a8-4054-816d-3bd2b38de737', 'https://shopee.co.id/Vga-Asus-RTX-2060-6GB-GDDR6-(Asus-Dual-Rtx-2060-6gb-gddr6)-Gransi-Resmi-i.488555258.11962208974?sp_atk=485a29ae-6f6e-4fe0-b7f9-3ea2df05bfa7', 'https://shopee.co.id/VGA-MSI-RTX-2060-VENTUS-GP-OC-6GB-GDDR6-i.271960024.6486785509?sp_atk=1767c83d-e796-4661-b6a6-eae8ce86cf3e', 'https://shopee.co.id/VGA-GIGABYTE-GeForce-RTX-2060-D6-6GD-GV-N2060D6-6GD-Rev-2.0-RTX2060-i.40255164.13731439757?sp_atk=66a4db17-c793-4f4d-8869-7f46044c79f7', 'https://shopee.co.id/ASUS-Geforce-RTX-2060-6GB-DDR6-Dual-EVO-OC-i.237435127.12432494051?sp_atk=bc6e9683-92d6-4b5f-af74-908f558225b4', 'https://shopee.co.id/Colorful-NVidia-GeForce-RTX-2060-6GB-NB-V-GDDR6-VGA-Card-Resmi-i.6034428.12232363614?sp_atk=fa8dd614-1d52-440b-a1d9-b9857cda39bc', 'https://shopee.co.id/MSI-GTX-1660-Super-Ventus-XS-OC-not-RTX-2060-Super-3060-Ti-3070-1660-1070-1080-Ti-i.11684141.11462800023?sp_atk=0c880d9f-c4b6-49df-8e1b-d3ac7a37e6ff', 'https://shopee.co.id/-TERMURAH-mining-rig-1-6-vga-gtx-1660-super-1660ti-rtx-2060-sebulan-dapat-6-10jt-tinggal-colok-listrik-per-vga-dapat-1-2jt-sebulan-rtx-3060-3070-380-3090-termurah-se-indonesia-free-konsultasi-free-ongkir-semarang-dan-sekitarnya-i.233420365.11929736547?sp_atk=2fd248cb-7dab-486e-8e3c-146d2ef31e97', 'https://shopee.co.id/Gigabyte-RTX-2060-WINDFORCE-6GB-GDDR6-i.76610822.11462093372?sp_atk=0ac5a8aa-f2c2-4b1e-b09a-4cb5446672da', 'https://shopee.co.id/VGA-Card-GALAX-GTX-1660-Super-Ex-White-gtx-1660super-bukan-RTX-2060-super-3060-ti-1650-1060-i.11684141.13431128143?sp_atk=056d125a-0dfe-4105-8996-851c6395f6a6', 'https://shopee.co.id/ASUS-Dual-GeForce-RTX-2060-OC-edition-EVO-6GB-RGB-GDDR6-VGA-Card-i.6034428.12833951140?sp_atk=92ccacbc-e337-459b-9311-d427cb00edea', 'https://shopee.co.id/VGA-PNY-GeForce-RTX-2060-XLR8-OC-6GB-SECOND-NORMAL-i.237435127.13833814743?sp_atk=b67e8a8c-4c60-4237-871f-fe8dbfa3ca66', 'https://shopee.co.id/Colorful-GeForce-RTX-2060-NB-V-6GB-GDDR6-192bit-i.271759893.10905183936?sp_atk=420f9bc9-9008-4ff2-b72c-755b12f29c5a', 'https://shopee.co.id/ASUS-DUAL-GEFORCE-RTX-2060-OC-EVO-EDITION-6GB-GDDR6-i.19350071.10714172453?sp_atk=df07424f-b838-455b-9d42-e11d005cfcff', 'https://shopee.co.id/VGA-GAINWARD-RTX-2060-SUPER-GHOST-8GB-GDDR6-256bit-i.147393271.11561780285?sp_atk=2a673627-10de-401e-ad7a-86f070150b9c', 'https://shopee.co.id/RTX-2060-GAINWARD-GHOST-VGA-RTX-2060-GAINWARD-GHOST-6GB-DDR6-i.88469874.10127973439?sp_atk=1edd5bf0-7c0a-423a-8c3f-41d3acb1a991', 'https://shopee.co.id/GIGABYTE-GeForce-RTX-2060-D6-6GB-GDDR6-VGA-RTX2060-DDR6-i.135935289.13230998581?sp_atk=28b4ca3b-8110-4783-af7c-d3d8ff2fbc4f', 'https://shopee.co.id/VGA-Gigabyte-GTX-970-G1-Gaming-full-Waterblock-not-rtx-2060-1660-i.57286332.10661007056?sp_atk=05bfa49c-8322-471f-bec1-fd9ee438de4b', 'https://shopee.co.id/Msi-Vga-Geforce-Rtx-2060-Ventus-Gp-Oc-6Gb-Gddr6-i.518368369.11960470053?sp_atk=1857cc6a-66e9-456e-aa87-429f152ff2e4', 'https://shopee.co.id/Dijual-RTX-2060-MSI-GAMING-Z-VGA-RTX-2060-MSI-GAMING-Z-6GB-Murah-i.312605487.12504691907?sp_atk=491fb2f8-04dd-48a9-b3fc-69c0e830a868', 'https://shopee.co.id/VGA-Gigabyte-RTX-2060-6G-OC-i.32960231.4782108384?sp_atk=395df3cc-f103-406c-93f7-126304148908', 'https://shopee.co.id/VGA-MSI-RTX-2060-GAMING-Z-6-GB-DDR6-i.288618213.11940335136?sp_atk=190798de-1745-4dda-bc59-7f87e3ec4c8e', 'https://shopee.co.id/ASUS-Dual-GeForce-RTX-2060-OC-edition-EVO-6GB-GDDR6-i.284004789.11060373332?sp_atk=7f0862d2-db13-4542-9056-8f5c66cf5c3a', 'https://shopee.co.id/1-Pasang-Ha9010H12F-Z-4pin-Kipas-Pendingin-Pengganti-Untuk-Msi-Gtx-1060-1660ti-Rtx-2060-Ventus-Xs-C-Graphics-Card-Fan-i.110638153.8055034316?sp_atk=c26bf8cf-021f-4d29-b442-386dd4ba47cd', 'https://shopee.co.id/Gigabyte-Geforce-Rtx-2060-Oc-6G-(Rev.-1.0)-Best-Seller-i.447759137.12233273880?sp_atk=d3b84002-1cb2-4595-968f-90f90c6a7209', 'https://shopee.co.id/Gainward-GeForce-RTX-2060-Ghost-6GB-GDDR6-192Bit-Dual-Fan-i.19926566.5790741778?sp_atk=9247bf8e-9c51-4baa-8b0b-ab94237dea44', 'https://shopee.co.id/VGA-COLORFUL-GEFORCE-RTX-2060-NB-V-6GB-6-GB-GDDR6-i.143559303.9861383862?sp_atk=7f9b220a-386c-4ff7-b794-84cc7e1d4e92', 'https://shopee.co.id/VGA-Colorful-RTX-2060-NB-V-6GB-DDR6-i.346535298.9057810241?sp_atk=1001dc40-4781-4874-9267-6fe1d68eb60c', 'https://shopee.co.id/ZOTAC-GAMING-GEFORCE-RTX-2060-6GB-GDDR6-GAMING-ZT-T20600H-10M-GRAPHICS-i.438478816.9480663347?sp_atk=11d5948c-7e31-4072-a4e5-34a4b276c124', 'https://shopee.co.id/VGA-Colorful-Geforce-RTX-2060-NB-V-6GB-6-GB-GDDR6-i.19757505.8571422437?sp_atk=f79bf7e7-adf8-4ff6-8042-3e012305153f', 'https://shopee.co.id/ASUS-GEFORCE-RTX-2060-OVERCLOCKED-6G-GDDR6-DUAL-FAN-EVO-EDITION-VR-REA-i.438478816.4894468943?sp_atk=f5dc3510-c84b-438e-812f-723e42012c89', 'https://shopee.co.id/VGA-Colorful-Geforce-RTX-2060-NB-V-6GB-6-GB-GDDR6-RTX-2060-6-GB-i.144497590.7490627694?sp_atk=ad0957e7-8eca-426d-bfc7-dec0fbe833f4', 'https://shopee.co.id/Vga-Colorful-RTX-2060-NB-V-6GB-ColorFul-Geforce-RTX-2060-6GB-NB-V-i.326057410.8485920514?sp_atk=35ffb86a-dcbf-4990-b4f6-7c11c9c66ce8', 'https://shopee.co.id/Vga-Galax-Geforce-Rtx-2060-6Gb-Ddr6-(1-Click-Oc)-i.214110019.11720563189?sp_atk=5e568063-30b4-4871-bd1f-6ecb8c9e4246', 'https://shopee.co.id/ASUS-GEFORCE-RTX-2060-OVERCLOCKED-6G-GDDR6-DUAL-FAN-EVO-EDITION-VR-REA-i.438478816.9878920713?sp_atk=868912de-70a7-4334-8648-da601bced33c', 'https://shopee.co.id/Vga-Vga-Colorful-Rtx-2060-Nb-V-6Gb-Colorful-Geforce-Rtx-2060-6Gb-Nb-V-i.214110019.5595434491?sp_atk=e760d4e4-3162-4110-bf03-26f4e7703c37', 'https://shopee.co.id/HP-Pav-Gaming-15-dk1064tx-8GB-512GB-SSD-RTX-2060-6GB-i.330338916.8741846451?sp_atk=e6afb55d-aecd-4a6f-9a31-70be61d770b2', 'https://shopee.co.id/ASUS-GEFORCE-RTX-2060-OVERCLOCKED-6G-GDDR6-DUAL-FAN-EVO-EDITION-VR-REA-i.438478816.6295020858?sp_atk=330d6e95-1167-4fc7-90a8-bdbfd0146287', 'https://shopee.co.id/Vga-Msi-Rtx-2060-Gaming-Z-6Gb-Ddr6-192-Bit-i.214110019.4995438009?sp_atk=5533910f-10b7-4909-a05c-9baca964bdbc', 'https://shopee.co.id/Unik-VGA-RTX-2060-NB-2V-6GB-DDR6-COLORFUL-Berkualitas-i.312605487.11127770242?sp_atk=6ef394ad-bdeb-4a22-889a-71461fdf196c', 'https://shopee.co.id/ZOTAC-GAMING-GeForce-RTX-2060-Twin-Fan-6GB-DDR6-192BIT-i.336827381.10011345102?sp_atk=6a9547b6-6019-44a8-8c17-50ad6d1ae4c7', 'https://shopee.co.id/GAINWARD-GEFORCE-RTX-2060-GHOST-6GB-GDDR6-VGA-RTX-2060-i.144497590.6089954847?sp_atk=4fa735cc-e2da-44bc-b873-60b10a1a8e08', 'https://shopee.co.id/sale-ASUS-GeForce-RTX-2060-Dual-EVO-OC-6GB-GDDR6-Berkualitas-i.312605487.11227121719?sp_atk=5caa3538-75ed-477e-a93b-8df9225ca6b4', 'https://shopee.co.id/Vga-Colorful-Geforce-Rtx-2060-Nb-V-6Gb-6-Gb-Gddr6-3-Thn-Garansi-Resmi-Terlaris-i.188584662.10005833306?sp_atk=83674317-5b0f-48d4-b7b6-47406ab86b1b', 'https://shopee.co.id/Gigabyte-Geforce-Rtx-2060-Oc-6G-(Rev.-1.0)-i.179353699.10200224447?sp_atk=579a52d7-635e-440e-9bc2-ae4cae42e460', 'https://shopee.co.id/Promo-ASUS-GeForce-RTX-2060-Dual-EVO-OC-6GB-GDDR6-Limited-i.312605487.11327106715?sp_atk=60cbe8e5-c320-44d1-97c7-772c744e2eb8']\n",
      "['msi ventus rtx 2060', 'VGA ASUS RTX 2060 DUAL Evo 6GB DDR6 Garansi Resmi', 'VGA GIGABYTE RTX 2060 D6 GDDR6 6GB', 'Pilih 2, diskon Rp400.000', 'RTX 2060 (Garansi ON) Gaming Only', 'VGA PNY RTX 2060 XLR8 GAMING 6GB', 'GIGABYTE GEFORCE RTX 2060 D6 6G 192 BIT NON LHR', 'Asus RTX 2060 Dual Evo OC 8GB GDDR6', 'VGA GALAX RTX 2060 SUPER 8GB GDDR6', 'VGA GTX 1660 SUPER 6GB RTX 2060 8GB SUPER DDR6 1650 1050Ti RX 550 4GB DDR5 NVIDIA GRAPHIC CARD MURAH', 'Pilih 2, diskon Rp150.000', 'EVGA RTX 2060 Super 8GB GDDR6 SC Ultra', 'zotac rtx 2060 amp 6gb second', 'VGA GIGABYTE GeForce RTX 2060 6GB DDR6', 'Vga Asus RTX 2060 6GB GDDR6 (Asus Dual Rtx 2060 6gb gddr6) Gransi Resmi', 'VGA MSI RTX 2060 VENTUS GP OC 6GB GDDR6', 'VGA GIGABYTE GeForce RTX 2060 D6 6GD GV-N2060D6-6GD Rev 2.0 RTX2060', 'ASUS Geforce RTX 2060 6GB DDR6 - Dual EVO OC', 'Colorful NVidia GeForce RTX 2060 6GB NB-V GDDR6 - VGA Card - Resmi', 'Diskon 5%', 'MSI GTX 1660 Super Ventus XS OC not RTX 2060 Super 3060 Ti 3070 1660 1070 1080 Ti', '[TERMURAH] mining rig 1- 6 vga gtx 1660 super /1660ti / rtx 2060 sebulan dapat 6-10jt tinggal colok listrik per vga dapat 1-2jt sebulan rtx 3060 3070 380 3090 termurah se indonesia free konsultasi free ongkir semarang dan sekitarnya', 'Diskon 5%', 'Gigabyte RTX 2060 WINDFORCE 6GB GDDR6', 'VGA Card GALAX GTX 1660 Super Ex White gtx 1660super bukan RTX 2060 super 3060 ti 1650 1060', 'ASUS Dual GeForce RTX 2060 OC edition EVO 6GB RGB GDDR6 - VGA Card', 'Diskon 5%', 'VGA PNY GeForce RTX 2060 XLR8 OC 6GB SECOND NORMAL', 'Colorful GeForce RTX 2060 NB-V 6GB GDDR6 - 192bit', 'ASUS DUAL GEFORCE RTX 2060 OC EVO EDITION 6GB GDDR6', 'VGA GAINWARD RTX 2060 SUPER GHOST 8GB GDDR6 256bit', 'RTX 2060 GAINWARD GHOST VGA RTX 2060 GAINWARD GHOST 6GB DDR6', 'GIGABYTE GeForce RTX 2060 D6 6GB GDDR6 - VGA RTX2060 DDR6', 'VGA Gigabyte GTX 970 G1 Gaming full Waterblock , not rtx 2060,1660', 'Msi Vga Geforce Rtx 2060 Ventus Gp Oc 6Gb Gddr6', 'Dijual RTX 2060 MSI GAMING Z VGA RTX 2060 MSI GAMING Z 6GB Murah', 'VGA Gigabyte RTX 2060 6G OC', 'VGA MSI RTX 2060 GAMING Z 6 GB DDR6', 'ASUS Dual GeForce RTX 2060 OC edition EVO 6GB GDDR6', '1 Pasang Ha9010H12F-Z 4pin Kipas Pendingin Pengganti Untuk Msi Gtx 1060 1660ti Rtx 2060 Ventus Xs C Graphics Card Fan', 'Gigabyte Geforce Rtx 2060 Oc 6G (Rev. 1.0) Best Seller', 'Gainward GeForce RTX 2060 Ghost 6GB GDDR6 192Bit - Dual Fan', 'VGA COLORFUL GEFORCE RTX 2060 NB-V 6GB - 6 GB GDDR6', 'VGA Colorful RTX 2060 NB V 6GB DDR6', 'ZOTAC GAMING GEFORCE RTX 2060 6GB GDDR6 GAMING ZT-T20600H-10M GRAPHICS', 'VGA Colorful Geforce RTX 2060 NB-V 6GB - 6 GB GDDR6', 'ASUS GEFORCE RTX 2060 OVERCLOCKED 6G GDDR6 DUAL-FAN EVO EDITION VR REA', 'VGA Colorful Geforce RTX 2060 NB-V 6GB - 6 GB GDDR6 / RTX 2060 6 GB', 'Vga Colorful RTX 2060 NB-V 6GB - ColorFul Geforce RTX 2060 6GB NB-V', 'Vga Galax Geforce Rtx 2060 6Gb Ddr6 (1-Click Oc)', 'ASUS GEFORCE RTX 2060 OVERCLOCKED 6G GDDR6 DUAL-FAN EVO EDITION VR REA', 'Vga Vga Colorful Rtx 2060 Nb-V 6Gb - Colorful Geforce Rtx 2060 6Gb Nb-V', 'HP Pav Gaming - 15-dk1064tx - 8GB - 512GB SSD - RTX 2060 6GB', 'ASUS GEFORCE RTX 2060 OVERCLOCKED 6G GDDR6 DUAL-FAN EVO EDITION VR REA', 'Vga Msi Rtx 2060 Gaming Z 6Gb Ddr6 192 Bit', 'Unik VGA RTX 2060 NB 2V 6GB DDR6 COLORFUL Berkualitas', 'ZOTAC GAMING GeForce RTX 2060 Twin Fan 6GB DDR6 192BIT', 'GAINWARD GEFORCE RTX 2060 GHOST 6GB GDDR6 / VGA RTX 2060', 'sale ASUS GeForce RTX 2060 Dual EVO OC - 6GB GDDR6 Berkualitas', 'Vga Colorful Geforce Rtx 2060 Nb-V 6Gb 6 Gb Gddr6 3 Thn Garansi Resmi Terlaris', 'Gigabyte Geforce Rtx 2060 Oc 6G (Rev. 1.0)', 'Promo ASUS GeForce RTX 2060 Dual EVO OC - 6GB GDDR6 Limited']\n",
      "['9.000.000', '10.999.000', '10.400.000', '10.000.000', '10.500.000', '10.500.000', '10.900.000', '14.000.000', '2.316.000', '14.000.000', '10.500.000', '10.500.000', '11.350.000', '10.440.000', '10.750.000', '10.100.000', '11.240.000', '9.800.000', '13.000.000', '11.260.000', '9.800.000', '11.500.000', '9.900.000', '12.100.000', '11.600.000', '14.700.000', '11.250.000', '10.911.000', '3.200.000', '14.641.500', '15.802.500', '11.222.000', '13.650.000', '15.210.000', '124.790', '15.791.000', '13.650.000', '18.135.000', '15.057.000', '14.140.000', '11.199.000', '19.347.000', '12.100.000', '12.840.000', '15.225.000', '19.347.000', '14.700.000', '16.700.000', '19.347.000', '13.615.000', '14.770.500', '15.730.000', '13.699.000', '13.661.100', '16.792.000', '12.275.000', '13.093.500']\n",
      "[]\n",
      "['KAB. TANGERANG', 'KAB. SLEMAN', 'KAB. KARIMUN', 'KAB. TANJUNG JABUNG BARAT', 'KOTA JAKARTA UTARA', 'KOTA BANJARMASIN', 'KOTA SURABAYA', 'KOTA JAKARTA BARAT', 'KOTA JAKARTA UTARA', 'KAB. WONOSOBO', 'KOTA JAKARTA BARAT', 'KOTA JAKARTA PUSAT', 'KOTA BANDUNG', 'KOTA SURABAYA', 'KAB. SLEMAN', 'KOTA SURABAYA', 'KOTA JAKARTA SELATAN', 'KAB. MAJALENGKA', 'KOTA SEMARANG', 'KOTA JAKARTA PUSAT', 'KAB. MAJALENGKA', 'KOTA JAKARTA SELATAN', 'KOTA SURABAYA', 'KOTA BANJARMASIN', 'KOTA JAKARTA PUSAT', 'KOTA BANDUNG', 'KOTA BANDUNG', 'KOTA MALANG', 'KAB. KAPUAS HULU', 'KOTA SURABAYA', 'KOTA BANDUNG', 'KAB. KENDAL', 'KOTA BANDUNG', 'KOTA SURABAYA', 'Luar Negeri', 'KOTA BEKASI', 'KOTA JAKARTA PUSAT', 'KOTA BEKASI', 'KOTA JAKARTA PUSAT', 'KOTA JAKARTA PUSAT', 'KOTA JAKARTA PUSAT', 'KOTA JAKARTA PUSAT', 'KOTA BANDUNG', 'KOTA JAKARTA TIMUR', 'KOTA JAKARTA SELATAN', 'KOTA JAKARTA PUSAT', 'KOTA JAKARTA SELATAN', 'KOTA JAKARTA PUSAT', 'KOTA JAKARTA PUSAT', 'KOTA JAKARTA SELATAN', 'KOTA BANDUNG', 'KOTA JAKARTA SELATAN', 'KOTA BANDUNG', 'KOTA BANDUNG', 'KAB. BEKASI', 'KOTA JAKARTA PUSAT', 'KOTA BANDUNG']\n",
      "[]\n"
     ]
    }
   ],
   "source": [
    "scroll_to_bottom()\n",
    "items = get_all_items()\n",
    "print(items)"
   ]
  },
  {
   "cell_type": "code",
   "execution_count": 50,
   "metadata": {},
   "outputs": [],
   "source": [
    "def save_to_csv(data: list):\n",
    "    header = [\"link\", \"title\", \"price\", \"sale\", \"city\"]\n",
    "    \n",
    "    with open('{}_shopee.csv'.format(product_name), 'w', encoding='UTF8', newline='') as f:\n",
    "        writer = csv.DictWriter(f, fieldnames=header)\n",
    "        writer.writeheader()\n",
    "        writer.writerows(data)"
   ]
  },
  {
   "cell_type": "code",
   "execution_count": 51,
   "metadata": {},
   "outputs": [],
   "source": [
    "products = []\n",
    "for link, title, price, sale, city in items:\n",
    "    item = {\n",
    "        \"link\": link,\n",
    "        \"title\": title,\n",
    "        \"price\": price,\n",
    "        \"sale\": sale,\n",
    "        \"city\": city\n",
    "    }\n",
    "    products.append(item)"
   ]
  },
  {
   "cell_type": "code",
   "execution_count": 52,
   "metadata": {},
   "outputs": [],
   "source": [
    "save_to_csv(products)"
   ]
  },
  {
   "cell_type": "code",
   "execution_count": 53,
   "metadata": {},
   "outputs": [
    {
     "data": {
      "text/plain": [
       "'https://shopee.co.id/search?keyword=tikus%20bakar&page=3'"
      ]
     },
     "execution_count": 53,
     "metadata": {},
     "output_type": "execute_result"
    }
   ],
   "source": [
    "driver.current_url"
   ]
  },
  {
   "cell_type": "code",
   "execution_count": null,
   "metadata": {},
   "outputs": [],
   "source": []
  }
 ],
 "metadata": {
  "interpreter": {
   "hash": "7c22713cfbae5454d99b042973cb83eb262d6f1a825e1d76f9c854b699a166f8"
  },
  "kernelspec": {
   "display_name": "Python 3.7.6 64-bit ('base': conda)",
   "name": "python3"
  },
  "language_info": {
   "codemirror_mode": {
    "name": "ipython",
    "version": 3
   },
   "file_extension": ".py",
   "mimetype": "text/x-python",
   "name": "python",
   "nbconvert_exporter": "python",
   "pygments_lexer": "ipython3",
   "version": "3.7.6"
  }
 },
 "nbformat": 4,
 "nbformat_minor": 4
}
