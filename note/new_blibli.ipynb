{
 "cells": [
  {
   "cell_type": "code",
   "execution_count": 1,
   "metadata": {},
   "outputs": [],
   "source": [
    "import json\n",
    "import csv\n",
    "import time\n",
    "from pprint import pprint\n",
    "\n",
    "from selenium.webdriver import Chrome\n",
    "from selenium.webdriver.chrome.options import Options\n",
    "from selenium.webdriver.common.keys import Keys \n",
    "from selenium.webdriver.common.by import By\n",
    "from selenium.webdriver.support.ui import WebDriverWait\n",
    "from selenium.webdriver.support import expected_conditions as EC\n",
    "from selenium.common.exceptions import TimeoutException, NoSuchElementException, InvalidArgumentException"
   ]
  },
  {
   "cell_type": "code",
   "execution_count": 2,
   "metadata": {},
   "outputs": [
    {
     "name": "stderr",
     "output_type": "stream",
     "text": [
      "C:\\Users\\user\\AppData\\Local\\Temp\\ipykernel_22536\\1674800289.py:7: DeprecationWarning: executable_path has been deprecated, please pass in a Service object\n",
      "  driver = Chrome(executable_path=\"..\\chromedriver\\chromedriver.exe\", options=options)\n"
     ]
    }
   ],
   "source": [
    "options = Options()\n",
    "options.add_argument(\"--start-maximized\")\n",
    "options.add_argument('--user-agent=\"Mozilla/5.0 (Windows NT 10.0; Win64; x64) AppleWebKit/537.36 (KHTML, like Gecko) Chrome/95.0.4638.54 Safari/537.36\"')\n",
    "options.add_argument('disable-infobars')\n",
    "options.add_argument('--disable-extensions')\n",
    "options.add_argument('--disable-blink-features=AutomationControlled')\n",
    "driver = Chrome(executable_path=\"..\\chromedriver\\chromedriver.exe\", options=options)"
   ]
  },
  {
   "cell_type": "code",
   "execution_count": 3,
   "metadata": {},
   "outputs": [],
   "source": [
    "driver.get(\"https://www.blibli.com/backend/search/products?sort=&page=1&start=0&searchTerm=rx%206600&intent=true&merchantSearch=true&multiCategory=true&customUrl=&=&channelId=web&showFacet=false&userIdentifier=657116261.U.4257873481588924.1656696567&isMobileBCA=false\")"
   ]
  },
  {
   "cell_type": "code",
   "execution_count": 4,
   "metadata": {},
   "outputs": [],
   "source": [
    "blibli_json = driver.find_element(\"xpath\", \"/html/body/pre\").text"
   ]
  },
  {
   "cell_type": "code",
   "execution_count": 5,
   "metadata": {},
   "outputs": [],
   "source": [
    "blibli_json = json.loads(blibli_json)"
   ]
  },
  {
   "cell_type": "code",
   "execution_count": 9,
   "metadata": {},
   "outputs": [
    {
     "data": {
      "text/plain": [
       "[{'title': 'MSI Radeon RX 6600 ARMOR 8G V1',\n",
       "  'price': 'Rp5.499.000',\n",
       "  'url': 'https://blibli.com/p/msi-radeon-rx-6600-armor-8g-v1/ps--JCM-60023-00931?ds=JCM-60023-00931-00001&source=SEARCH&sid=c6a400d07f502019&metaData=H5riYx3CycITbOKDIjsXxXYgRs2HFQu/ivYDRlhgnpLffS7M1dp4YUIlsODP6NAs&cnc=false&pickupPointCode=PP-3044115&pid=JCM-60023-00931&tag=trending'},\n",
       " {'title': 'ASRock AMD Radeon RX 6600 Challenger D 8GB RX6600',\n",
       "  'price': 'Rp4.990.000',\n",
       "  'url': 'https://blibli.com/p/asrock-amd-radeon-rx-6600-challenger-d-8gb-rx6600/ps--STJ-70001-00862?ds=STJ-70001-00862-00001&source=SEARCH&sid=c6a400d07f502019&metaData=z2pO7F+yNba3vQIim8Q2lREHNKD46PG/kEFhqNXBMiTffS7M1dp4YUIlsODP6NAs&cnc=false&pickupPointCode=PP-3168590&pid=STJ-70001-00862&tag=new'},\n",
       " {'title': 'MSI VGA RX 6600 MECH 2X 8G',\n",
       "  'price': 'Rp5.999.000',\n",
       "  'url': 'https://blibli.com/p/msi-vga-rx-6600-mech-2x-8g/ps--AAA-60021-01399?ds=AAA-60021-01399-00001&source=SEARCH&sid=c6a400d07f502019&metaData=9v5xk1J4UgPF55afVsK31XYgRs2HFQu/ivYDRlhgnpLffS7M1dp4YUIlsODP6NAs&cnc=false&pickupPointCode=PP-3034267&pid=AAA-60021-01399'},\n",
       " {'title': 'Asrock Radeon VGA RX 6600 Challenger D 8GB - RX6600 CLD 8G / RX 6600',\n",
       "  'price': 'Rp5.908.000',\n",
       "  'url': 'https://blibli.com/p/asrock-radeon-vga-rx-6600-challenger-d-8gb-rx6600-cld-8g-rx-6600/ps--ASC-70002-01736?ds=ASC-70002-01736-00001&source=SEARCH&sid=c6a400d07f502019&metaData=9v5xk1J4UgPF55afVsK31SllUZ4HJ5DVXk0sPA9KPcbffS7M1dp4YUIlsODP6NAs&cnc=false&pickupPointCode=PP-3138375&pid=ASC-70002-01736'},\n",
       " {'title': 'Gigabyte VGA Radeon RX 6600 XT GAMING OC 8GB GV-R66XTGAMING OC-8GD',\n",
       "  'price': 'Rp7.492.500',\n",
       "  'url': 'https://blibli.com/p/gigabyte-vga-radeon-rx-6600-xt-gaming-oc-8gb-gv-r66xtgaming-oc-8gd/ps--MYB-70013-00595?ds=MYB-70013-00595-00001&source=SEARCH&sid=c6a400d07f502019&metaData=19VrsKOq14ASI4KSLOpXZ11/TmuBvi67uPBXNZKogHHffS7M1dp4YUIlsODP6NAs&cnc=false&pickupPointCode=PP-3203942&pid=MYB-70013-00595'},\n",
       " {'title': 'VGA PowerColor Hellhound Radeon RX6600 8GB - RX 6600 8 GB DDR6',\n",
       "  'price': 'Rp5.800.000',\n",
       "  'url': 'https://blibli.com/p/vga-powercolor-hellhound-radeon-rx6600-8gb-rx-6600-8-gb-ddr6/ps--JAP-60042-02131?ds=JAP-60042-02131-00001&source=SEARCH&sid=c6a400d07f502019&metaData=pOilVZ2fvVhCNmBQQBsD368RZl5yD1dY35xhvh5OndLffS7M1dp4YUIlsODP6NAs&cnc=false&pickupPointCode=PP-3063157&pid=JAP-60042-02131&tag=new'},\n",
       " {'title': 'XFX RX6600/6600XT 8GB Black Wolf Game graphics card AMD E-sports Brand',\n",
       "  'price': 'Rp7.042.500',\n",
       "  'url': 'https://blibli.com/p/xfx-rx6600-6600xt-8gb-black-wolf-game-graphics-card-amd-e-sports-brand/ps--IPT-70003-00100?ds=IPT-70003-00100-00002&source=SEARCH&sid=c6a400d07f502019&metaData=fFQPneaph2vakLjf7nhvsl7kyHZxmh6JgFCBS1+DoCfffS7M1dp4YUIlsODP6NAs&cnc=false&pickupPointCode=PP-3251216&pid=IPT-70003-00100'},\n",
       " {'title': 'VGA ASRock AMD Radeon RX 6600 XT Challenger D 8GB OC',\n",
       "  'price': 'Rp5.990.000',\n",
       "  'url': 'https://blibli.com/p/vga-asrock-amd-radeon-rx-6600-xt-challenger-d-8gb-oc/ps--ENR-10699-00578?ds=ENR-10699-00578-00001&source=SEARCH&sid=c6a400d07f502019&metaData=9v5xk1J4UgPF55afVsK31REHNKD46PG/kEFhqNXBMiTffS7M1dp4YUIlsODP6NAs&cnc=false&pickupPointCode=ENR-10699-001&pid=ENR-10699-00578&tag=new'},\n",
       " {'title': 'Gigabyte VGA GV-R66XTGAMING OC PRO-8GD',\n",
       "  'price': 'Rp7.800.000',\n",
       "  'url': 'https://blibli.com/p/gigabyte-vga-gv-r66xtgaming-oc-pro-8gd/ps--MYB-70013-00606?ds=MYB-70013-00606-00001&source=SEARCH&sid=c6a400d07f502019&metaData=cQ9O4h3D5nefoQe/9HTQr68RZl5yD1dY35xhvh5OndLffS7M1dp4YUIlsODP6NAs&cnc=false&pickupPointCode=PP-3203942&pid=MYB-70013-00606'},\n",
       " {'title': 'BIOSTAR AMD RX 6600 XT AMD RADEON RX6600XT 8GB DDR6 128 BIT',\n",
       "  'price': 'Rp13.700.000',\n",
       "  'url': 'https://blibli.com/p/biostar-amd-rx-6600-xt-amd-radeon-rx6600xt-8gb-ddr6-128-bit/ps--JZS-70000-00147?ds=JZS-70000-00147-00001&source=SEARCH&sid=c6a400d07f502019&metaData=pCSo8hVASA4KG3+keJAoRPFqiGSmZ//Vp2+KON+pw/5me52nB/tv6x/JMzzDFGCj&cnc=false&pickupPointCode=PP-3290068&pid=JZS-70000-00147'},\n",
       " {'title': 'Sapphire Pulse AMD Radeon RX 6600 8GB GDDR6 / RX6600',\n",
       "  'price': 'Rp6.226.000',\n",
       "  'url': 'https://blibli.com/p/sapphire-pulse-amd-radeon-rx-6600-8gb-gddr6-rx6600/ps--ASC-70002-01618?ds=ASC-70002-01618-00001&source=SEARCH&sid=c6a400d07f502019&metaData=0FdkxdM8Cd1etJxYpCd4ZNrIy/f76NrFrKN79mN4upDffS7M1dp4YUIlsODP6NAs&cnc=false&pickupPointCode=PP-3138375&pid=ASC-70002-01618'},\n",
       " {'title': 'VGA GIGABYTE Radeon RX 6600 EAGLE 8GB GDDR6 - RX6600 DDR6',\n",
       "  'price': 'Rp6.760.000',\n",
       "  'url': 'https://blibli.com/p/vga-gigabyte-radeon-rx-6600-eagle-8gb-gddr6-rx6600-ddr6/ps--CAM-70015-01126?ds=CAM-70015-01126-00001&source=SEARCH&sid=c6a400d07f502019&metaData=kjVOOgo6s+Kav6GFdzLMW5AyBASKwk2jE7xvxPR+4FDffS7M1dp4YUIlsODP6NAs&cnc=false&pickupPointCode=PP-3169990&pid=CAM-70015-01126'},\n",
       " {'title': 'New VGA ASUS DUAL AMD RADEON RX 6600 / RX6600 8GB GDDR6',\n",
       "  'price': 'Rp7.510.000',\n",
       "  'url': 'https://blibli.com/p/new-vga-asus-dual-amd-radeon-rx-6600-rx6600-8gb-gddr6/ps--GUK-43901-00656?ds=GUK-43901-00656-00001&source=SEARCH&sid=c6a400d07f502019&metaData=KCfdt9seKWCLRLfRuwutgtaRNmEWS4WQOqgCl8pG39LffS7M1dp4YUIlsODP6NAs&cnc=false&pickupPointCode=PP-3014494&pid=GUK-43901-00656'},\n",
       " {'title': 'Gigabyte VGA Radeon RX 6600 EAGLE 8GB GV-R66EAGLE-8GD',\n",
       "  'price': 'Rp6.990.000',\n",
       "  'url': 'https://blibli.com/p/gigabyte-vga-radeon-rx-6600-eagle-8gb-gv-r66eagle-8gd/ps--IDH-16956-01929?ds=IDH-16956-01929-00001&source=SEARCH&sid=c6a400d07f502019&metaData=UIz8A7ZPGWAHCYGj+6rTzBEHNKD46PG/kEFhqNXBMiTffS7M1dp4YUIlsODP6NAs&cnc=false&pickupPointCode=IDH-16956-001&pid=IDH-16956-01929'},\n",
       " {'title': 'MSI Radeon RX 6600 XT GAMING X 8G',\n",
       "  'price': 'Rp7.245.000',\n",
       "  'url': 'https://blibli.com/p/msi-radeon-rx-6600-xt-gaming-x-8g/ps--JCM-60023-00830?ds=JCM-60023-00830-00001&source=SEARCH&sid=c6a400d07f502019&metaData=DdBTyvEDW18p1ugdvhU6ajPdS8EoIX8nGSJNjnieO4fffS7M1dp4YUIlsODP6NAs&cnc=false&pickupPointCode=PP-3044115&pid=JCM-60023-00830'},\n",
       " {'title': 'VGA PowerColor Fighter Radeon RX6600 8GB - RX 6600 8 GB DDR6',\n",
       "  'price': 'Rp9.500.000',\n",
       "  'url': 'https://blibli.com/p/vga-powercolor-fighter-radeon-rx6600-8gb-rx-6600-8-gb-ddr6/ps--JAP-60042-00367?ds=JAP-60042-00367-00001&source=SEARCH&sid=c6a400d07f502019&metaData=39sqiKfeNxWgkNyJ8WGX4a8RZl5yD1dY35xhvh5OndLffS7M1dp4YUIlsODP6NAs&cnc=false&pickupPointCode=PP-3063157&pid=JAP-60042-00367'},\n",
       " {'title': 'MSI Radeon RX 6600 XT MECH 2X 8G OC / RX6600 / RX 6600',\n",
       "  'price': 'Rp8.442.000',\n",
       "  'url': 'https://blibli.com/p/msi-radeon-rx-6600-xt-mech-2x-8g-oc-rx6600-rx-6600/ps--ASC-70002-01492?ds=ASC-70002-01492-00001&source=SEARCH&sid=c6a400d07f502019&metaData=4/lMC3d1kdpMr59pbB68rIUSFLp4nW6Su0E4fpf3rHDffS7M1dp4YUIlsODP6NAs&cnc=false&pickupPointCode=PP-3138375&pid=ASC-70002-01492'},\n",
       " {'title': 'Sapphire Pulse AMD Radeon RX 6600 8GB GDDR6 / RX6600',\n",
       "  'price': 'Rp9.499.000',\n",
       "  'url': 'https://blibli.com/p/sapphire-pulse-amd-radeon-rx-6600-8gb-gddr6-rx6600/ps--PLC-70007-00422?ds=PLC-70007-00422-00001&source=SEARCH&sid=c6a400d07f502019&metaData=rrId/p+o3D2OcZtxui8zlnYgRs2HFQu/ivYDRlhgnpLffS7M1dp4YUIlsODP6NAs&cnc=false&pickupPointCode=PP-3183715&pid=PLC-70007-00422'},\n",
       " {'title': 'MSI RX 6600 XT MECH 2X 8Gb GDDR6 / RX6600 XT / RX 6600 XT',\n",
       "  'price': 'Rp11.849.000',\n",
       "  'url': 'https://blibli.com/p/msi-rx-6600-xt-mech-2x-8gb-gddr6-rx6600-xt-rx-6600-xt/ps--ASC-70002-01420?ds=ASC-70002-01420-00001&source=SEARCH&sid=c6a400d07f502019&metaData=sZwZ850BToUHrZIHjkv5m8Qduv9D4ez7E8PMpL0jcolme52nB/tv6x/JMzzDFGCj&cnc=false&pickupPointCode=PP-3138375&pid=ASC-70002-01420'},\n",
       " {'title': 'VGA Powercolor RX6600 8GB DDR6 Hellhound AMD Radeon RX 6600',\n",
       "  'price': 'Rp9.250.000',\n",
       "  'url': 'https://blibli.com/p/vga-powercolor-rx6600-8gb-ddr6-hellhound-amd-radeon-rx-6600/ps--STJ-70001-00629?ds=STJ-70001-00629-00001&source=SEARCH&sid=c6a400d07f502019&metaData=CqdkUqUV1XwhpArsQKZPJyQ0Tmt3u9HGM8i1TBvtSGvffS7M1dp4YUIlsODP6NAs&cnc=false&pickupPointCode=PP-3267627&pid=STJ-70001-00629'},\n",
       " {'title': 'MSI Radeon RX 6600 ARMOR 8G / MSI RX 6600 ARMOR / RX 6600 / RX6600 8GB',\n",
       "  'price': 'Rp6.532.000',\n",
       "  'url': 'https://blibli.com/p/msi-radeon-rx-6600-armor-8g-msi-rx-6600-armor-rx-6600-rx6600-8gb/ps--ASC-70002-01477?ds=ASC-70002-01477-00001&source=SEARCH&sid=c6a400d07f502019&metaData=g9wK2XPNxvXr3aIMhNfCP0B7AEXQEeq7vGOp1QoBefXffS7M1dp4YUIlsODP6NAs&cnc=false&pickupPointCode=PP-3138375&pid=ASC-70002-01477'},\n",
       " {'title': 'MSI Radeon RX 6600 XT MECH 2X 8G OCV1',\n",
       "  'price': 'Rp6.995.000',\n",
       "  'url': 'https://blibli.com/p/msi-radeon-rx-6600-xt-mech-2x-8g-ocv1/ps--JCM-60023-00829?ds=JCM-60023-00829-00001&source=SEARCH&sid=c6a400d07f502019&metaData=UIz8A7ZPGWAHCYGj+6rTzP+CNEWEqSi9ol4ByfR9HNrffS7M1dp4YUIlsODP6NAs&cnc=false&pickupPointCode=PP-3044115&pid=JCM-60023-00829'},\n",
       " {'title': 'ASRock Radeon RX 6600 Challenger D 8GB GDDR6 RX6600 CLD VGA CARD',\n",
       "  'price': 'Rp8.151.000',\n",
       "  'url': 'https://blibli.com/p/asrock-radeon-rx-6600-challenger-d-8gb-gddr6-rx6600-cld-vga-card/ps--ANC-70013-01292?ds=ANC-70013-01292-00001&source=SEARCH&sid=c6a400d07f502019&metaData=0qBvIGucNTFFSyffbCWyJFzL0AKg/CpJ1m4TrWzZMMDffS7M1dp4YUIlsODP6NAs&cnc=false&pickupPointCode=PP-3153061&pid=ANC-70013-01292'},\n",
       " {'title': 'MSI Radeon RX 6600 ARMOR 8GB GDDR6 - RX6600 DDR6',\n",
       "  'price': 'Rp10.048.000',\n",
       "  'url': 'https://blibli.com/p/msi-radeon-rx-6600-armor-8gb-gddr6-rx6600-ddr6/ps--GAO-70072-00109?ds=GAO-70072-00109-00001&source=SEARCH&sid=c6a400d07f502019&metaData=eWIGizKxTJ/mTyQZ+mDT0YhrZl+y5mRzf4tPraOmiSpme52nB/tv6x/JMzzDFGCj&cnc=false&pickupPointCode=PP-3274729&pid=GAO-70072-00109'},\n",
       " {'title': 'ASUS Radeon RX 6600 Dual 8GB GDDR6 - RX6600 DDR6',\n",
       "  'price': 'Rp10.190.000',\n",
       "  'url': 'https://blibli.com/p/asus-radeon-rx-6600-dual-8gb-gddr6-rx6600-ddr6/ps--GAO-70072-00130?ds=GAO-70072-00130-00001&source=SEARCH&sid=c6a400d07f502019&metaData=eWIGizKxTJ/mTyQZ+mDT0TODQe8BkP+Xp6BePqBLksBme52nB/tv6x/JMzzDFGCj&cnc=false&pickupPointCode=PP-3274729&pid=GAO-70072-00130'},\n",
       " {'title': 'ASROCK RX 6600 XT Challenger D 8Gb OC',\n",
       "  'price': 'Rp10.995.000',\n",
       "  'url': 'https://blibli.com/p/asrock-rx-6600-xt-challenger-d-8gb-oc/ps--ASC-70002-01454?ds=ASC-70002-01454-00001&source=SEARCH&sid=c6a400d07f502019&metaData=eWIGizKxTJ/mTyQZ+mDT0RZT7k5hBItwswqDV6L+iKVme52nB/tv6x/JMzzDFGCj&cnc=false&pickupPointCode=PP-3138375&pid=ASC-70002-01454'},\n",
       " {'title': 'MSI VGA RX 6600 XT GAMING X 8G',\n",
       "  'price': 'Rp7.250.000',\n",
       "  'url': 'https://blibli.com/p/msi-vga-rx-6600-xt-gaming-x-8g/ps--AAA-60021-01345?ds=AAA-60021-01345-00001&source=SEARCH&sid=c6a400d07f502019&metaData=DdBTyvEDW18p1ugdvhU6aiQ0Tmt3u9HGM8i1TBvtSGvffS7M1dp4YUIlsODP6NAs&cnc=false&pickupPointCode=PP-3034267&pid=AAA-60021-01345'},\n",
       " {'title': 'Asrock Radeon RX 6600 CHALLENGER D 8GB GDDR6 - RX6600 DDR6',\n",
       "  'price': 'Rp5.199.000',\n",
       "  'url': 'https://blibli.com/p/asrock-radeon-rx-6600-challenger-d-8gb-gddr6-rx6600-ddr6/ps--GAO-70072-00128?ds=GAO-70072-00128-00001&source=SEARCH&sid=c6a400d07f502019&metaData=oFfDIlb86p7XwVS4jxcuBnYgRs2HFQu/ivYDRlhgnpLffS7M1dp4YUIlsODP6NAs&cnc=false&pickupPointCode=PP-3274729&pid=GAO-70072-00128'},\n",
       " {'title': 'Gigabyte Radeon RX 6600 EAGLE 8GB GDDR6 128Bit-RX 6600 EAGLE 8G',\n",
       "  'price': 'Rp7.150.000',\n",
       "  'url': 'https://blibli.com/p/gigabyte-radeon-rx-6600-eagle-8gb-gddr6-128bit-rx-6600-eagle-8g/ps--WIE-60022-00501?ds=WIE-60022-00501-00001&source=SEARCH&sid=c6a400d07f502019&metaData=R2QGO8lRiqME4qkcZGpL5iQ0Tmt3u9HGM8i1TBvtSGvffS7M1dp4YUIlsODP6NAs&cnc=false&pickupPointCode=PP-3023350&pid=WIE-60022-00501'},\n",
       " {'title': 'GIGABYTE Radeon RX 6600 EAGLE 8GB GDDR6 - RX6600 DDR6',\n",
       "  'price': 'Rp10.350.000',\n",
       "  'url': 'https://blibli.com/p/gigabyte-radeon-rx-6600-eagle-8gb-gddr6-rx6600-ddr6/ps--GAO-70072-00140?ds=GAO-70072-00140-00001&source=SEARCH&sid=c6a400d07f502019&metaData=eWIGizKxTJ/mTyQZ+mDT0fezZHMmUViImC2bfCGYfeFme52nB/tv6x/JMzzDFGCj&cnc=false&pickupPointCode=PP-3274729&pid=GAO-70072-00140'},\n",
       " {'title': 'GIGABYTE Radeon RX 6600 XT GAMING OC 8GB GDDR6 - RX6600XT DDR6',\n",
       "  'price': 'Rp8.965.000',\n",
       "  'url': 'https://blibli.com/p/gigabyte-radeon-rx-6600-xt-gaming-oc-8gb-gddr6-rx6600xt-ddr6/ps--PRT-60028-02539?ds=PRT-60028-02539-00001&source=SEARCH&sid=c6a400d07f502019&metaData=hUNOhYVO0V3VgwFH02LMXkjdooOLMBocH0we1klI83fffS7M1dp4YUIlsODP6NAs&cnc=false&pickupPointCode=PP-3056093&pid=PRT-60028-02539'},\n",
       " {'title': 'Sapphire Radeon RX 6600 XT 8GB DDR6 NITRO+ OC',\n",
       "  'price': 'Rp8.292.000',\n",
       "  'url': 'https://blibli.com/p/sapphire-radeon-rx-6600-xt-8gb-ddr6-nitro-oc/ps--ASC-70002-01619?ds=ASC-70002-01619-00001&source=SEARCH&sid=c6a400d07f502019&metaData=SQplX+AuPvc0MSjslSKA2F1TBkTfzSaYvhJXW9TeKMTffS7M1dp4YUIlsODP6NAs&cnc=false&pickupPointCode=PP-3138375&pid=ASC-70002-01619'},\n",
       " {'title': 'Gigabyte RX 6600 XT GAMING OC 8GB GDDR6 128Bit RX 6600 XT GAMING OC 8G',\n",
       "  'price': 'Rp9.435.000',\n",
       "  'url': 'https://blibli.com/p/gigabyte-rx-6600-xt-gaming-oc-8gb-gddr6-128bit-rx-6600-xt-gaming-oc-8g/ps--WIE-60022-00504?ds=WIE-60022-00504-00001&source=SEARCH&sid=c6a400d07f502019&metaData=rrId/p+o3D2OcZtxui8zlmwNmXjDyauv/s/ScHTIHZ7ffS7M1dp4YUIlsODP6NAs&cnc=false&pickupPointCode=PP-3023350&pid=WIE-60022-00504'},\n",
       " {'title': 'GIGABYTE Radeon RX 6600 XT GAMING OC 8GB GDDR6 - RX6600XT DDR6',\n",
       "  'price': 'Rp12.280.000',\n",
       "  'url': 'https://blibli.com/p/gigabyte-radeon-rx-6600-xt-gaming-oc-8gb-gddr6-rx6600xt-ddr6/ps--GAO-70072-00127?ds=GAO-70072-00127-00001&source=SEARCH&sid=c6a400d07f502019&metaData=99+Mp9SgOCB91Y+er9BxG50URrW1JEncPE8z9JPR64Nme52nB/tv6x/JMzzDFGCj&cnc=false&pickupPointCode=PP-3274729&pid=GAO-70072-00127'},\n",
       " {'title': 'MSI VGA RX 6600 XT MECH 2X 8G OC',\n",
       "  'price': 'Rp6.999.000',\n",
       "  'url': 'https://blibli.com/p/msi-vga-rx-6600-xt-mech-2x-8g-oc/ps--AAA-60021-01344?ds=AAA-60021-01344-00001&source=SEARCH&sid=c6a400d07f502019&metaData=UIz8A7ZPGWAHCYGj+6rTzHYgRs2HFQu/ivYDRlhgnpLffS7M1dp4YUIlsODP6NAs&cnc=false&pickupPointCode=PP-3034267&pid=AAA-60021-01344'},\n",
       " {'title': 'VGA BIOSTAR AMD Radeon RX 6600',\n",
       "  'price': 'Rp8.950.000',\n",
       "  'url': 'https://blibli.com/p/vga-biostar-amd-radeon-rx-6600/ps--HOC-70055-00069?ds=HOC-70055-00069-00001&source=SEARCH&sid=c6a400d07f502019&metaData=hUNOhYVO0V3VgwFH02LMXiQ0Tmt3u9HGM8i1TBvtSGvffS7M1dp4YUIlsODP6NAs&cnc=false&pickupPointCode=PP-3322341&pid=HOC-70055-00069'},\n",
       " {'title': 'Sapphire PULSE AMD Radeon RX 6600',\n",
       "  'price': 'Rp7.250.000',\n",
       "  'url': 'https://blibli.com/p/sapphire-pulse-amd-radeon-rx-6600/ps--ZAC-45868-01001?ds=ZAC-45868-01001-00001&source=SEARCH&sid=c6a400d07f502019&metaData=DdBTyvEDW18p1ugdvhU6aiQ0Tmt3u9HGM8i1TBvtSGvffS7M1dp4YUIlsODP6NAs&cnc=false&pickupPointCode=PP-3013820&pid=ZAC-45868-01001'},\n",
       " {'title': 'VGA CARD SAPPHIRE RX6600XT NITRO+ / RX6600 XT / RX 6600XT 8GB',\n",
       "  'price': 'Rp8.750.000',\n",
       "  'url': 'https://blibli.com/p/vga-card-sapphire-rx6600xt-nitro-rx6600-xt-rx-6600xt-8gb/ps--PRT-60028-02784?ds=PRT-60028-02784-00001&source=SEARCH&sid=c6a400d07f502019&metaData=8e/NO8ASbV8i4TxNtjyFsiQ0Tmt3u9HGM8i1TBvtSGvffS7M1dp4YUIlsODP6NAs&cnc=false&pickupPointCode=PP-3056093&pid=PRT-60028-02784'},\n",
       " {'title': 'VGA MSI RX 6600 XT Gaming',\n",
       "  'price': 'Rp12.150.000',\n",
       "  'url': 'https://blibli.com/p/vga-msi-rx-6600-xt-gaming/ps--HOC-70055-00072?ds=HOC-70055-00072-00001&source=SEARCH&sid=c6a400d07f502019&metaData=99+Mp9SgOCB91Y+er9BxG/vAkgPhfwJjW+3aEW3MPMNme52nB/tv6x/JMzzDFGCj&cnc=false&pickupPointCode=PP-3322341&pid=HOC-70055-00072'},\n",
       " {'title': 'SAPPHIRE PULSE Radeon RX 6600 XT 8GB GDDR6 - RX6600XT RX6600 XT DDR6',\n",
       "  'price': 'Rp10.990.000',\n",
       "  'url': 'https://blibli.com/p/sapphire-pulse-radeon-rx-6600-xt-8gb-gddr6-rx6600xt-rx6600-xt-ddr6/ps--GAO-70072-00144?ds=GAO-70072-00144-00001&source=SEARCH&sid=c6a400d07f502019&metaData=eWIGizKxTJ/mTyQZ+mDT0Xyxg6ANnucVNM36eUg+U8Nme52nB/tv6x/JMzzDFGCj&cnc=false&pickupPointCode=PP-3274729&pid=GAO-70072-00144'}]"
      ]
     },
     "execution_count": 9,
     "metadata": {},
     "output_type": "execute_result"
    }
   ],
   "source": [
    "def extract_data_from_json(product_json):\n",
    "    def fix_url(product_url):\n",
    "        return \"https://www.blibli.com\" + product_url\n",
    "        \n",
    "    title = product_json['name']\n",
    "    price = product_json['price']['priceDisplay']\n",
    "    item_url = fix_url(product_json['url'])\n",
    "    return {\n",
    "        \"title\": title,\n",
    "        \"price\": price,\n",
    "        \"url\": item_url\n",
    "    }\n",
    "\n",
    "extracted_data = [extract_data_from_json(product_json) for product_json in blibli_json['data']['products']]\n",
    "extracted_data\n"
   ]
  },
  {
   "cell_type": "code",
   "execution_count": null,
   "metadata": {},
   "outputs": [],
   "source": []
  }
 ],
 "metadata": {
  "kernelspec": {
   "display_name": "Python 3.9.12 ('base')",
   "language": "python",
   "name": "python3"
  },
  "language_info": {
   "codemirror_mode": {
    "name": "ipython",
    "version": 3
   },
   "file_extension": ".py",
   "mimetype": "text/x-python",
   "name": "python",
   "nbconvert_exporter": "python",
   "pygments_lexer": "ipython3",
   "version": "3.9.12"
  },
  "orig_nbformat": 4,
  "vscode": {
   "interpreter": {
    "hash": "a077222d77dfe082b8f1dd562ad70e458ac2ab76993a0b248ab0476e32e9e8dd"
   }
  }
 },
 "nbformat": 4,
 "nbformat_minor": 2
}
