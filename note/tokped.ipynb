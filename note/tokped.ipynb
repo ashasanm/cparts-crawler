{
 "cells": [
  {
   "cell_type": "code",
   "execution_count": 1,
   "metadata": {},
   "outputs": [],
   "source": [
    "import csv\n",
    "from pprint import pprint\n",
    "from time import sleep\n",
    "\n",
    "from selenium.webdriver import Chrome\n",
    "from selenium.webdriver.chrome.options import Options\n",
    "from selenium.webdriver.common.keys import Keys\n",
    "from selenium.webdriver.common.by import By\n",
    "from selenium.webdriver.support.ui import WebDriverWait\n",
    "from selenium.webdriver.support import expected_conditions as EC\n",
    "from selenium.common.exceptions import TimeoutException, NoSuchElementException, InvalidArgumentException\n",
    "\n",
    "import re\n",
    "import json"
   ]
  },
  {
   "cell_type": "code",
   "execution_count": 2,
   "metadata": {},
   "outputs": [
    {
     "name": "stderr",
     "output_type": "stream",
     "text": [
      "C:\\Users\\user\\AppData\\Local\\Temp\\ipykernel_21896\\2482000279.py:5: DeprecationWarning: executable_path has been deprecated, please pass in a Service object\n",
      "  driver = Chrome(\"../chromedriver/chromedriver.exe\", options=options)\n"
     ]
    }
   ],
   "source": [
    "options = Options()\n",
    "options.add_argument('--disable-infobars')\n",
    "options.add_argument('--disable-extensions')\n",
    "options.add_argument('--disable-blink-features=AutomationControlled')\n",
    "driver = Chrome(\"../chromedriver/chromedriver.exe\", options=options)"
   ]
  },
  {
   "cell_type": "code",
   "execution_count": 3,
   "metadata": {},
   "outputs": [],
   "source": [
    "driver.get(\"view-source:https://www.tokopedia.com/search?navsource=&page=2&q=rx%206600&rf=true&srp_component_id=02.01.00.00&srp_page_id=&srp_page_title=&st=product\")\n",
    "driver.implicitly_wait(30)"
   ]
  },
  {
   "cell_type": "code",
   "execution_count": 4,
   "metadata": {},
   "outputs": [],
   "source": [
    "source_page = driver.page_source"
   ]
  },
  {
   "cell_type": "code",
   "execution_count": 5,
   "metadata": {},
   "outputs": [],
   "source": [
    "raw_data_tokped = re.search('window.__cache=(.*)};', source_page)\n",
    "raw_data_tokped = raw_data_tokped.group(1) + \"}\""
   ]
  },
  {
   "cell_type": "code",
   "execution_count": 6,
   "metadata": {},
   "outputs": [],
   "source": [
    "json_data = json.loads(raw_data_tokped)"
   ]
  },
  {
   "cell_type": "code",
   "execution_count": 7,
   "metadata": {},
   "outputs": [
    {
     "data": {
      "text/plain": [
       "80"
      ]
     },
     "execution_count": 7,
     "metadata": {},
     "output_type": "execute_result"
    }
   ],
   "source": [
    "dict_keys = [key for key in json_data if key.startswith(\"TopAdsProduct\") or key.startswith(\"AceSearchUnifyProduct\")  if \".\" not in key]\n",
    "len(dict_keys)"
   ]
  },
  {
   "cell_type": "code",
   "execution_count": 8,
   "metadata": {},
   "outputs": [
    {
     "data": {
      "text/plain": [
       "[{'title': 'SAPPHIRE PULSE RADEON RX 6600 GAMING 8GB GDDR6 HDMI/TRIPLE DP RX6600',\n",
       "  'price': 'Rp5.099.000'},\n",
       " {'title': 'ASROCK AMD Radeon RX 6600 Challenger D 8GB GDDR6 - RX6600 CLD 8G',\n",
       "  'price': 'Rp5.550.000'},\n",
       " {'title': 'ASROCK RX 6600 XT Challenger D OC 8GB GDDR6',\n",
       "  'price': 'Rp5.990.000'},\n",
       " {'title': 'ASUS DUAL RX 6600 XT OC 8Gb GDDR6', 'price': 'Rp7.720.000'},\n",
       " {'title': 'POWERCOLOR HELLHOUND AMD RADEON RX 6600 8GB GDDR6',\n",
       "  'price': 'Rp4.890.000'},\n",
       " {'title': 'Gigabyte VGA Radeon™ RX 6600 XT EAGLE 8G (GV-R66XTEAGLE-8GD)',\n",
       "  'price': 'Rp7.896.000'},\n",
       " {'title': 'VGA AMD SAPPHIRE RX 6600 / RX6600 8GB PULSE',\n",
       "  'price': 'Rp5.999.999'},\n",
       " {'title': 'GIGABYTE RADEON RX 6600 XT GAMING OC PRO 8G GDDR6 128-BIT',\n",
       "  'price': 'Rp7.590.000'},\n",
       " {'title': 'VGA MSI Radeon RX 6600 XT RX6600XT MECH 2X 8GB GDDR6 OC 128-bit',\n",
       "  'price': 'Rp9.899.000'},\n",
       " {'title': 'VGA ASROCK RX 6600 CHALLENGER 8GB DDR6 RX6600',\n",
       "  'price': 'Rp5.500.000'},\n",
       " {'title': 'VGA ASROCK AMD RADEON RX 6600 XT PHANTOM GAMING D 8GB OC',\n",
       "  'price': 'Rp6.599.000'},\n",
       " {'title': 'Sapphire PULSE AMD Radeon RX 6600 8GB Gaming DDR6 - RESMI',\n",
       "  'price': 'Rp5.625.000'},\n",
       " {'title': 'VGA MSI RX 6600 XT MECH 2X OC 8GB GDDR6 128-BIT',\n",
       "  'price': 'Rp6.599.000'},\n",
       " {'title': 'ASUS DUAL RADEON RX 6600 8GB GDDR6', 'price': 'Rp7.875.000'},\n",
       " {'title': 'XFX Radeon RX 6600 8GB GDDR6 SWFT210', 'price': 'Rp5.965.000'},\n",
       " {'title': 'MSI RADEON RX 6600 ARMOR V1 8GB GDDR6', 'price': 'Rp5.900.000'},\n",
       " {'title': 'MSI RADEON RX 6600 XT MECH 2X OC 8GB GDDR6 128-BIT',\n",
       "  'price': 'Rp9.350.000'},\n",
       " {'title': 'VGA ASROCK RX 6600 CHALLENGER 8GB DDR6', 'price': 'Rp7.300.000'},\n",
       " {'title': 'MSI RX 6600 XT MECH 2X 8Gb GDDR6', 'price': 'Rp6.980.000'},\n",
       " {'title': 'ASUS DUAL RX 6600 XT OC 8Gb GDDR6', 'price': 'Rp7.670.000'},\n",
       " {'title': 'VGA XFX QICK 308 AMD RADEON RX 6600 XT 8GB DDR6 128-BIT RX 6600XT 3FAN',\n",
       "  'price': 'Rp6.599.000'},\n",
       " {'title': 'VGA ASUS RX 6600 DUAL 8GB RADEON DDR6', 'price': 'Rp9.000.000'},\n",
       " {'title': 'VGA XFX SPEEDSTER QICK 308 AMD RADEON RX 6600 XT 8GB DDR6 128-BIT 3FAN',\n",
       "  'price': 'Rp6.599.000'},\n",
       " {'title': 'VGA Sapphire RX 6600 Pulse 8GB - Sapphire Radeon RX 6600 8GB',\n",
       "  'price': 'Rp6.190.000'},\n",
       " {'title': 'VGA POWERCOLOR RX 6600 XT 8GB RX 6600XT 8GB',\n",
       "  'price': 'Rp10.650.000'},\n",
       " {'title': 'VGA XFX RX 6600 XT CORE 8 GB SPEEDSTER SWFT 210 GDDR6 Dual Fan',\n",
       "  'price': 'Rp7.150.000'},\n",
       " {'title': 'VGA POWERCOLOR RX 6600 FIGHTER 8GB RX6600',\n",
       "  'price': 'Rp6.000.000'},\n",
       " {'title': 'VGA Power Color Fighter AMD Radeon RX 6600 8GB GDDR6 VGA Mining',\n",
       "  'price': 'Rp4.900.000'},\n",
       " {'title': 'VGA XFX AMD Radeon RX 6600 / RX6600 Speedster SWFT 210 CORE 8GB GDDR6',\n",
       "  'price': 'Rp5.799.999'},\n",
       " {'title': 'VGA GIGABYTE RX 6600 XT 8GB GAMING OC RX6600 XT 8GB GIGABYTE GAMING OC',\n",
       "  'price': 'Rp9.900.000'},\n",
       " {'title': 'ASUS Dual AMD Radeon RX 6600 8GB GDDR6 PCIe 4.0',\n",
       "  'price': 'Rp7.500.000'},\n",
       " {'title': 'VGA ASUS DUAL RADEON RX 6600 XT OC 8GB GDDR6 128-BIT RX6600XT 6600XT',\n",
       "  'price': 'Rp6.599.000'},\n",
       " {'title': 'VGA ASROCK CHALLENGER PRO RX 6600 XT RX6600XT 6600 XT 8GB 3FAN',\n",
       "  'price': 'Rp6.599.000'},\n",
       " {'title': 'VGA XFX RX 6600 XT BLACK 8GB SPEEDSTER QICK 308 TRIPLE FAN',\n",
       "  'price': 'Rp7.425.000'},\n",
       " {'title': 'GIGABYTE AMD RADEON RX 6600 EAGLE 8GB GDDR6 GV-R66EAGLE-8GD',\n",
       "  'price': 'Rp6.050.000'},\n",
       " {'title': 'MSI RX 6600 XT GAMING X 8Gb GDDR6', 'price': 'Rp7.250.000'},\n",
       " {'title': 'VGA MSI RX6600/ RX 6600 Armor 8G', 'price': 'Rp9.399.000'},\n",
       " {'title': 'MSI RADEON RX 6600 MECH 2X 8G GDDR6 128-bit',\n",
       "  'price': 'Rp4.850.000'},\n",
       " {'title': 'BIOSTAR AMD RX 6600 XT VGA CARD AMD RADEON 8GB DDR6 128 BIT',\n",
       "  'price': 'Rp13.500.000'},\n",
       " {'title': 'VGA GIGABYTE Radeon RX 6600 EAGLE 8GB GDDR6 - RX6600 DDR6',\n",
       "  'price': 'Rp6.740.000'},\n",
       " {'title': 'Vga ASRock RX 6600 Challenger D 8GB - ASRock Radeon RX 6600 8G',\n",
       "  'price': 'Rp5.490.000'},\n",
       " {'title': 'XFX RX 6600 SPEEDSTER SWFT210', 'price': 'Rp6.190.000'},\n",
       " {'title': 'ASROCK RX 6600 XT / RX 6600XT Challenger D 8Gb',\n",
       "  'price': 'Rp7.225.000'},\n",
       " {'title': 'PowerColor RX 6600 XT Red Devil 8GB GDDR6 - Vga Card',\n",
       "  'price': 'Rp7.679.000'},\n",
       " {'title': 'VGA Asus RTX 6600 8GB Dual Fan - Asus Dual Radeon RX 6600 8GB',\n",
       "  'price': 'Rp6.200.000'},\n",
       " {'title': 'VGA ASUS RX 6600 DUAL 8GB GDDR6 RX6600 AMD RADEON',\n",
       "  'price': 'Rp8.530.000'},\n",
       " {'title': 'VGA PowerColor RX 6600 Fighter 8G - PowerColor Fighter Radeon RX 6600',\n",
       "  'price': 'Rp5.100.000'},\n",
       " {'title': 'Sapphire Pulse RX 6600 - 8GB DDR6 - Vga Card',\n",
       "  'price': 'Rp6.495.000'},\n",
       " {'title': 'VGa AMD Radeon RX 6600 Challenger D 8GB OC Rx6600',\n",
       "  'price': 'Rp8.265.000'},\n",
       " {'title': 'Msi Radeon RX 6600 MECH 2X 8GB DDR6 - Resmi',\n",
       "  'price': 'Rp5.989.000'},\n",
       " {'title': 'ASUS RADEON RX 6600 XT DUAL 8GB DDR6', 'price': 'Rp9.299.000'},\n",
       " {'title': 'VGA BIOSTAR RX 6600 XT 8GB DDR6 128 BIT VA 66T6TM81 RX 6600XT 1 TAHUN',\n",
       "  'price': 'Rp6.499.000'},\n",
       " {'title': 'XFX RX 6600 SWIFT 210 NEW', 'price': 'Rp6.250.000'},\n",
       " {'title': 'GPU VGA CARD 🔴 AMD RX 6800 XT 6700 XT 6600 XT ⚡ KARTU GRAFIS',\n",
       "  'price': 'Rp7.750.000'},\n",
       " {'title': 'VGA POWERCOLOR RX 6600 FIGHTER 8GB DDR6 RX6600',\n",
       "  'price': 'Rp5.500.000'},\n",
       " {'title': 'GPU VGA Sapphire AMD Radeon Nitro+ RX 6600 XT / RX 6600XT - 8GB DDR6',\n",
       "  'price': 'Rp10.800.000'},\n",
       " {'title': 'POWERCOLOR Fighter AMD Radeon RX 6600 8GB GDDR6',\n",
       "  'price': 'Rp5.800.000'},\n",
       " {'title': 'RX 6600 Sapphire Pulse Radeon 8GB GDDR6 VGA',\n",
       "  'price': 'Rp9.390.000'},\n",
       " {'title': 'SAPPHIRE RADEON RX 6600 PULSE 8GB GDDR6', 'price': 'Rp5.715.000'},\n",
       " {'title': 'ASROCK RX 6600 RX6600 CHALLANGER D 8GB GDDR6 128-BIT',\n",
       "  'price': 'Rp4.999.000'},\n",
       " {'title': 'VGA AGS VURRION AMD RX 5500 XT 8GB DDR6 128bit REAL CAPACITY',\n",
       "  'price': None},\n",
       " {'title': 'VGA AGS VURRION AMD RX 5500 XT 8GB DDR6 128bit REAL CAPACITY',\n",
       "  'price': None},\n",
       " {'title': 'VGA VURRION RX 5500 XT 8GB GDDR6 128 BIT HDMI DP DVI - VURRION RX5500',\n",
       "  'price': None},\n",
       " {'title': 'PC Gaming i5 10400F|VGA 8GB RX 5500 XT|16GB RAM DDR4|SSD|HDD|Rendering',\n",
       "  'price': None},\n",
       " {'title': 'SAPPHIRE RX 6700XT NITRO+ [ TRIPLE FAN ]', 'price': None},\n",
       " {'title': 'VGA Sapphire Pulse AMD Radeon RX 6500 XT OC 4G D6 |4GB|GDDR6|PCI-E 4.0',\n",
       "  'price': None},\n",
       " {'title': 'SAPPHIRE RX 6600XT PULSE [ DUAL FAN ]', 'price': None},\n",
       " {'title': 'VGA SAPPHIRE RADEON RX 6500 XT RX6500XT PULSE 4GB GDDR6 GAMING MINING',\n",
       "  'price': None},\n",
       " {'title': 'BIOSTAR Radeon AMD RX 6500 XT 4GB - RX6500XT', 'price': None},\n",
       " {'title': 'VGA AMD YESTON RX 6500 XT 4GB GDDR6 64bit', 'price': None},\n",
       " {'title': 'VGA BIOSTAR RX 570 8GB DDR5 256BIT', 'price': None},\n",
       " {'title': 'READY GPU VGA Card Sapphire RX 6600XT Nitro 8GB OC',\n",
       "  'price': None},\n",
       " {'title': 'VGA MSI RX 570 8Gb', 'price': None},\n",
       " {'title': 'VGA AMD YESTON RX 6700 XT 12GB GDDR6 192bit', 'price': None},\n",
       " {'title': 'VGA BIOSTAR RX580-8GB SOCKET 1150 DDR5 GEN 10/11', 'price': None},\n",
       " {'title': 'VGA AMD YESTON RX 550 4GB 4HDMI GDDR5 128 BIT', 'price': None},\n",
       " {'title': '(Second Ex Gaming) Asrook RX570 4GB DDR5 Vga Card RX570',\n",
       "  'price': None},\n",
       " {'title': 'VGA msi armor RX 470 8GB', 'price': None},\n",
       " {'title': 'XFX SPEEDSTER MERC319 RADEON RX 6800 NOT SAPPHIRE NITRO PULSE',\n",
       "  'price': None},\n",
       " {'title': 'Fan vga Sapphire NITRO RX470,RX480,RX570,RX580 4GB/8GB',\n",
       "  'price': None}]"
      ]
     },
     "execution_count": 8,
     "metadata": {},
     "output_type": "execute_result"
    }
   ],
   "source": [
    "def extract_data_from_json(json_data, key):\n",
    "    title = json_data[key].get(\"name\")\n",
    "    price = json_data[key].get(\"price\")\n",
    "    if price is None:\n",
    "        price = json_data[key].get(\"price_format\")\n",
    "    return {\n",
    "        \"title\": title,\n",
    "        \"price\": price\n",
    "    }\n",
    "extracted_data = [extract_data_from_json(json_data, key) for key in dict_keys]\n",
    "extracted_data"
   ]
  },
  {
   "cell_type": "code",
   "execution_count": 6,
   "metadata": {},
   "outputs": [],
   "source": [
    "searchbar = driver.find_element(\"xpath\", '//*[@id=\"search-container\"]/form/div/div/div/input')\n",
    "searchbar.click()\n",
    "searchbar.send_keys(\"tv sony\")\n",
    "searchbar.send_keys(Keys.ENTER)\n",
    "print(\"search for {}..\".format(\"tv sony\"))"
   ]
  },
  {
   "cell_type": "code",
   "execution_count": 5,
   "metadata": {},
   "outputs": [],
   "source": [
    "def scroll_to_bottom():\n",
    "    for i in range(7):\n",
    "        driver.find_element_by_xpath(\"/html/body\").send_keys(Keys.PAGE_DOWN)\n",
    "        sleep(0.7)"
   ]
  },
  {
   "cell_type": "code",
   "execution_count": 6,
   "metadata": {},
   "outputs": [],
   "source": [
    "try:\n",
    "    overlay = driver.find_element_by_xpath(\"/html/body/div[5]/div[3]\")\n",
    "    /html/body/div[5]/div[6]\n",
    "    overlay.click()\n",
    "    scroll_to_bottom()\n",
    "    driver.find_element_by_xpath(\"//*[contains(text(),'Oke, Lanjut Belanja')]\").click()\n",
    "except (NoSuchElementException, TimeoutException):\n",
    "    pass"
   ]
  },
  {
   "cell_type": "code",
   "execution_count": 7,
   "metadata": {
    "scrolled": true
   },
   "outputs": [],
   "source": [
    "urls = driver.find_elements_by_xpath('//*[@id=\"zeus-root\"]/div/div[2]/div/div[2]/div[4]/div/div/div/div/div/div/div/div[2]/a')\n",
    "urls = [url.get_attribute('href') for url in urls]\n",
    "promo_url = []\n",
    "\n",
    "for url in urls[:]:\n",
    "    if 'ta.tokopedia' in url:\n",
    "        promo_url.append(url)\n",
    "        urls.remove(url)\n",
    "        \n",
    "        "
   ]
  },
  {
   "cell_type": "code",
   "execution_count": 8,
   "metadata": {
    "scrolled": true
   },
   "outputs": [],
   "source": [
    "driver.get(urls[0])"
   ]
  },
  {
   "cell_type": "code",
   "execution_count": 14,
   "metadata": {},
   "outputs": [
    {
     "data": {
      "text/plain": [
       "80"
      ]
     },
     "execution_count": 14,
     "metadata": {},
     "output_type": "execute_result"
    }
   ],
   "source": [
    "separator = 'https%3A%2F%2F'\n",
    "for url in promo_url:\n",
    "    url = url.split(separator)\n",
    "    url = url[1].replace(\"%2F\", \"/\")\n",
    "    urls.append(url)\n",
    "\n",
    "len(urls)"
   ]
  },
  {
   "cell_type": "code",
   "execution_count": 19,
   "metadata": {},
   "outputs": [
    {
     "name": "stdout",
     "output_type": "stream",
     "text": [
      "{'title': 'SONY LED TV KD 85X8000H - SMART TV LED 85 INCH ANDROID TV 4K 85X8000', 'price': 'Rp41.999.000', 'sold': 'Terjual 34', 'city': 'Kota Tangerang Selatan'}\n"
     ]
    }
   ],
   "source": [
    "title = driver.find_element_by_xpath('//*[@id=\"pdp_comp-product_content\"]/div/h1').text\n",
    "sold = driver.find_element_by_xpath('//*[@id=\"pdp_comp-product_content\"]/div/div[1]/div/div[1]').text\n",
    "price = driver.find_element_by_xpath('//*[@id=\"pdp_comp-product_content\"]/div/div[2]/div').text\n",
    "city = driver.find_element_by_xpath('//*[@id=\"pdp_comp-shipment\"]/div/div/div[1]/div/b').text\n",
    "\n",
    "result = {\n",
    "    'title': title,\n",
    "    'price': price,\n",
    "    'sold': sold,\n",
    "    'city': city\n",
    "}\n",
    "print(result)"
   ]
  },
  {
   "cell_type": "code",
   "execution_count": null,
   "metadata": {},
   "outputs": [],
   "source": []
  }
 ],
 "metadata": {
  "kernelspec": {
   "display_name": "Python 3.9.12 ('base')",
   "language": "python",
   "name": "python3"
  },
  "language_info": {
   "codemirror_mode": {
    "name": "ipython",
    "version": 3
   },
   "file_extension": ".py",
   "mimetype": "text/x-python",
   "name": "python",
   "nbconvert_exporter": "python",
   "pygments_lexer": "ipython3",
   "version": "3.9.12"
  },
  "vscode": {
   "interpreter": {
    "hash": "a077222d77dfe082b8f1dd562ad70e458ac2ab76993a0b248ab0476e32e9e8dd"
   }
  }
 },
 "nbformat": 4,
 "nbformat_minor": 4
}
