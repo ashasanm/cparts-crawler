{
 "cells": [
  {
   "cell_type": "code",
   "execution_count": 2,
   "metadata": {},
   "outputs": [],
   "source": [
    "import csv\n",
    "from pprint import pprint\n",
    "from time import sleep\n",
    "\n",
    "from selenium.webdriver import Chrome\n",
    "from selenium.webdriver.chrome.options import Options\n",
    "from selenium.webdriver.common.keys import Keys\n",
    "from selenium.webdriver.common.by import By\n",
    "from selenium.webdriver.support.ui import WebDriverWait\n",
    "from selenium.webdriver.support import expected_conditions as EC\n",
    "from selenium.common.exceptions import TimeoutException, NoSuchElementException, InvalidArgumentException"
   ]
  },
  {
   "cell_type": "code",
   "execution_count": 3,
   "metadata": {},
   "outputs": [],
   "source": [
    "driver = Chrome(\"../chromedriver/chromedriver.exe\")"
   ]
  },
  {
   "cell_type": "code",
   "execution_count": 3,
   "metadata": {},
   "outputs": [],
   "source": [
    "driver.get(\"https://www.tokopedia.com/gigabyteofficial/gigabyte-motherboard-b550-aorus-pro-ac?whid=0\")\n",
    "driver.implicitly_wait(30)"
   ]
  },
  {
   "cell_type": "code",
   "execution_count": 4,
   "metadata": {},
   "outputs": [
    {
     "name": "stdout",
     "output_type": "stream",
     "text": [
      "search for tv sony..\n"
     ]
    }
   ],
   "source": [
    "searchbar = driver.find_element_by_xpath('//*[@id=\"search-container\"]/form/div/div/div/input')\n",
    "searchbar.click()\n",
    "searchbar.send_keys(\"tv sony\")\n",
    "searchbar.send_keys(Keys.ENTER)\n",
    "print(\"search for {}..\".format(\"tv sony\"))"
   ]
  },
  {
   "cell_type": "code",
   "execution_count": 5,
   "metadata": {},
   "outputs": [],
   "source": [
    "def scroll_to_bottom():\n",
    "    for i in range(7):\n",
    "        driver.find_element_by_xpath(\"/html/body\").send_keys(Keys.PAGE_DOWN)\n",
    "        sleep(0.7)"
   ]
  },
  {
   "cell_type": "code",
   "execution_count": 6,
   "metadata": {},
   "outputs": [],
   "source": [
    "try:\n",
    "    overlay = driver.find_element_by_xpath(\"/html/body/div[5]/div[3]\")\n",
    "    /html/body/div[5]/div[6]\n",
    "    overlay.click()\n",
    "    scroll_to_bottom()\n",
    "    driver.find_element_by_xpath(\"//*[contains(text(),'Oke, Lanjut Belanja')]\").click()\n",
    "except (NoSuchElementException, TimeoutException):\n",
    "    pass"
   ]
  },
  {
   "cell_type": "code",
   "execution_count": 7,
   "metadata": {
    "scrolled": true
   },
   "outputs": [],
   "source": [
    "urls = driver.find_elements_by_xpath('//*[@id=\"zeus-root\"]/div/div[2]/div/div[2]/div[4]/div/div/div/div/div/div/div/div[2]/a')\n",
    "urls = [url.get_attribute('href') for url in urls]\n",
    "promo_url = []\n",
    "\n",
    "for url in urls[:]:\n",
    "    if 'ta.tokopedia' in url:\n",
    "        promo_url.append(url)\n",
    "        urls.remove(url)\n",
    "        \n",
    "        "
   ]
  },
  {
   "cell_type": "code",
   "execution_count": 8,
   "metadata": {
    "scrolled": true
   },
   "outputs": [],
   "source": [
    "driver.get(urls[0])"
   ]
  },
  {
   "cell_type": "code",
   "execution_count": 14,
   "metadata": {},
   "outputs": [
    {
     "data": {
      "text/plain": [
       "80"
      ]
     },
     "execution_count": 14,
     "metadata": {},
     "output_type": "execute_result"
    }
   ],
   "source": [
    "separator = 'https%3A%2F%2F'\n",
    "for url in promo_url:\n",
    "    url = url.split(separator)\n",
    "    url = url[1].replace(\"%2F\", \"/\")\n",
    "    urls.append(url)\n",
    "\n",
    "len(urls)"
   ]
  },
  {
   "cell_type": "code",
   "execution_count": 19,
   "metadata": {},
   "outputs": [
    {
     "name": "stdout",
     "output_type": "stream",
     "text": [
      "{'title': 'SONY LED TV KD 85X8000H - SMART TV LED 85 INCH ANDROID TV 4K 85X8000', 'price': 'Rp41.999.000', 'sold': 'Terjual 34', 'city': 'Kota Tangerang Selatan'}\n"
     ]
    }
   ],
   "source": [
    "title = driver.find_element_by_xpath('//*[@id=\"pdp_comp-product_content\"]/div/h1').text\n",
    "sold = driver.find_element_by_xpath('//*[@id=\"pdp_comp-product_content\"]/div/div[1]/div/div[1]').text\n",
    "price = driver.find_element_by_xpath('//*[@id=\"pdp_comp-product_content\"]/div/div[2]/div').text\n",
    "city = driver.find_element_by_xpath('//*[@id=\"pdp_comp-shipment\"]/div/div/div[1]/div/b').text\n",
    "\n",
    "result = {\n",
    "    'title': title,\n",
    "    'price': price,\n",
    "    'sold': sold,\n",
    "    'city': city\n",
    "}\n",
    "print(result)"
   ]
  },
  {
   "cell_type": "code",
   "execution_count": null,
   "metadata": {},
   "outputs": [],
   "source": []
  }
 ],
 "metadata": {
  "kernelspec": {
   "display_name": "Python 3",
   "language": "python",
   "name": "python3"
  },
  "language_info": {
   "codemirror_mode": {
    "name": "ipython",
    "version": 3
   },
   "file_extension": ".py",
   "mimetype": "text/x-python",
   "name": "python",
   "nbconvert_exporter": "python",
   "pygments_lexer": "ipython3",
   "version": "3.7.6"
  }
 },
 "nbformat": 4,
 "nbformat_minor": 4
}
