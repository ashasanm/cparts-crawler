{
 "cells": [
  {
   "cell_type": "code",
   "execution_count": 3,
   "metadata": {},
   "outputs": [],
   "source": [
    "import json\n",
    "import csv\n",
    "import time\n",
    "from pprint import pprint\n",
    "\n",
    "from selenium.webdriver import Chrome\n",
    "from selenium.webdriver.chrome.options import Options\n",
    "from selenium.webdriver.common.keys import Keys\n",
    "from selenium.webdriver.common.by import By\n",
    "from selenium.webdriver.support.ui import WebDriverWait\n",
    "from selenium.webdriver.support import expected_conditions as EC\n",
    "from selenium.common.exceptions import TimeoutException, NoSuchElementException, InvalidArgumentException"
   ]
  },
  {
   "cell_type": "code",
   "execution_count": 4,
   "metadata": {},
   "outputs": [],
   "source": [
    "def open_browser():\n",
    "    options = Options()\n",
    "    options.add_argument('--user-agent=\"Mozilla/5.0 (Windows NT 10.0; Win64; x64) AppleWebKit/537.36 (KHTML, like Gecko) Chrome/95.0.4638.54 Safari/537.36\"')\n",
    "    driver = Chrome(executable_path=\"..\\chromedriver\\chromedriver.exe\", options=options)\n",
    "    driver.implicitly_wait(10)\n",
    "\n",
    "    return driver"
   ]
  },
  {
   "cell_type": "code",
   "execution_count": 5,
   "metadata": {},
   "outputs": [],
   "source": [
    "main_driver = open_browser()"
   ]
  },
  {
   "cell_type": "code",
   "execution_count": 6,
   "metadata": {},
   "outputs": [],
   "source": [
    "def find_product(query, page):\n",
    "    query = query.replace(' ', '%20')\n",
    "    main_driver.get('https://www.bukalapak.com/products?page={}&search%5Bkeywords%5D={}'.format(query))"
   ]
  },
  {
   "cell_type": "code",
   "execution_count": null,
   "metadata": {},
   "outputs": [],
   "source": [
    "def get_details():\n",
    "    title = main_driver.find_elements_by_xpath('/html/body/div[3]/div/section/div/div/div[2]/div/div[2]/div[3]/div/div/div/div/div[2]/div[1]/p/a')\n",
    "    price = main_driver.find_elements_by_xpath('/html/body/div[3]/div/section/div/div/div[2]/div/div[2]/div[3]/div/div/div/div/div[2]/div[2]/p')\n",
    "    city = main_driver.find_elements_by_xpath('/html/body/div[3]/div/section/div/div/div[2]/div/div[2]/div[3]/client-only/div/div/div/div/div/div[2]/div[4]/span[1]')\n",
    "    \n",
    "    result = {\n",
    "        title = \n",
    "    }"
   ]
  },
  {
   "cell_type": "code",
   "execution_count": 2,
   "metadata": {},
   "outputs": [
    {
     "data": {
      "text/plain": [
       "[1, 2, 3, 4, 5, 6, 7]"
      ]
     },
     "execution_count": 2,
     "metadata": {},
     "output_type": "execute_result"
    }
   ],
   "source": [
    "test = [1,2,3,4,5,6,7]\n",
    "result = [x for x in test]\n",
    "result"
   ]
  },
  {
   "cell_type": "code",
   "execution_count": null,
   "metadata": {},
   "outputs": [],
   "source": []
  }
 ],
 "metadata": {
  "interpreter": {
   "hash": "7c22713cfbae5454d99b042973cb83eb262d6f1a825e1d76f9c854b699a166f8"
  },
  "kernelspec": {
   "display_name": "Python 3.7.6 64-bit ('base': conda)",
   "name": "python3"
  },
  "language_info": {
   "codemirror_mode": {
    "name": "ipython",
    "version": 3
   },
   "file_extension": ".py",
   "mimetype": "text/x-python",
   "name": "python",
   "nbconvert_exporter": "python",
   "pygments_lexer": "ipython3",
   "version": "3.7.6"
  },
  "orig_nbformat": 4
 },
 "nbformat": 4,
 "nbformat_minor": 2
}
