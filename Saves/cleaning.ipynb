{
 "cells": [
  {
   "cell_type": "code",
   "execution_count": 1,
   "metadata": {},
   "outputs": [],
   "source": [
    "import pandas as pd\n",
    "import glob"
   ]
  },
  {
   "cell_type": "code",
   "execution_count": 11,
   "metadata": {},
   "outputs": [],
   "source": [
    "df = pd.concat(map(pd.read_csv, ['./rtx 2060 vga_blibli.csv',\n",
    "                                './rtx 2060 vga_shopee.csv',\n",
    "                                './rtx 2060 vga_tokopedia.csv']))\n"
   ]
  },
  {
   "cell_type": "code",
   "execution_count": 13,
   "metadata": {},
   "outputs": [
    {
     "data": {
      "text/html": [
       "<div>\n",
       "<style scoped>\n",
       "    .dataframe tbody tr th:only-of-type {\n",
       "        vertical-align: middle;\n",
       "    }\n",
       "\n",
       "    .dataframe tbody tr th {\n",
       "        vertical-align: top;\n",
       "    }\n",
       "\n",
       "    .dataframe thead th {\n",
       "        text-align: right;\n",
       "    }\n",
       "</style>\n",
       "<table border=\"1\" class=\"dataframe\">\n",
       "  <thead>\n",
       "    <tr style=\"text-align: right;\">\n",
       "      <th></th>\n",
       "      <th>marketplace</th>\n",
       "      <th>title</th>\n",
       "      <th>price</th>\n",
       "      <th>sold</th>\n",
       "      <th>city</th>\n",
       "      <th>link</th>\n",
       "      <th>extraction_date</th>\n",
       "    </tr>\n",
       "  </thead>\n",
       "  <tbody>\n",
       "    <tr>\n",
       "      <th>0</th>\n",
       "      <td>blibli</td>\n",
       "      <td>VGA CARD ZOTAC RTX2060 DDR6 6GB 192BIT / VGA R...</td>\n",
       "      <td>Rp10.899.000</td>\n",
       "      <td>NaN</td>\n",
       "      <td>Kota Makassar, Sulawesi Selatan</td>\n",
       "      <td>https://www.blibli.com/p/vga-card-zotac-rtx206...</td>\n",
       "      <td>2021-10-26</td>\n",
       "    </tr>\n",
       "    <tr>\n",
       "      <th>1</th>\n",
       "      <td>blibli</td>\n",
       "      <td>Palit GeForce RTX 2060 GamingPro OC VGA Card [...</td>\n",
       "      <td>Rp35.000.000</td>\n",
       "      <td>NaN</td>\n",
       "      <td>Kota Makassar, Sulawesi Selatan</td>\n",
       "      <td>https://www.blibli.com/p/palit-geforce-rtx-206...</td>\n",
       "      <td>2021-10-26</td>\n",
       "    </tr>\n",
       "    <tr>\n",
       "      <th>2</th>\n",
       "      <td>blibli</td>\n",
       "      <td>Palit GeForce RTX 2060 GamingPro OC VGA Card [...</td>\n",
       "      <td>Rp13.900.000</td>\n",
       "      <td>NaN</td>\n",
       "      <td>Kota Surabaya, Jawa Timur</td>\n",
       "      <td>https://www.blibli.com/p/palit-geforce-rtx-206...</td>\n",
       "      <td>2021-10-26</td>\n",
       "    </tr>\n",
       "    <tr>\n",
       "      <th>3</th>\n",
       "      <td>blibli</td>\n",
       "      <td>Vga Colorful RTX 2060 NB-V 6GB GDDR6 192bit</td>\n",
       "      <td>Rp12.349.000</td>\n",
       "      <td>NaN</td>\n",
       "      <td>Kota Makassar, Sulawesi Selatan</td>\n",
       "      <td>https://www.blibli.com/p/vga-colorful-rtx-2060...</td>\n",
       "      <td>2021-10-26</td>\n",
       "    </tr>\n",
       "    <tr>\n",
       "      <th>4</th>\n",
       "      <td>blibli</td>\n",
       "      <td>Vga Colorful RTX 2060 NB-V 6GB GDDR6 192bit</td>\n",
       "      <td>Rp12.349.000</td>\n",
       "      <td>NaN</td>\n",
       "      <td>Kota Makassar, Sulawesi Selatan</td>\n",
       "      <td>https://www.blibli.com/p/vga-colorful-rtx-2060...</td>\n",
       "      <td>2021-10-26</td>\n",
       "    </tr>\n",
       "  </tbody>\n",
       "</table>\n",
       "</div>"
      ],
      "text/plain": [
       "  marketplace                                              title  \\\n",
       "0      blibli  VGA CARD ZOTAC RTX2060 DDR6 6GB 192BIT / VGA R...   \n",
       "1      blibli  Palit GeForce RTX 2060 GamingPro OC VGA Card [...   \n",
       "2      blibli  Palit GeForce RTX 2060 GamingPro OC VGA Card [...   \n",
       "3      blibli        Vga Colorful RTX 2060 NB-V 6GB GDDR6 192bit   \n",
       "4      blibli        Vga Colorful RTX 2060 NB-V 6GB GDDR6 192bit   \n",
       "\n",
       "          price sold                             city  \\\n",
       "0  Rp10.899.000  NaN  Kota Makassar, Sulawesi Selatan   \n",
       "1  Rp35.000.000  NaN  Kota Makassar, Sulawesi Selatan   \n",
       "2  Rp13.900.000  NaN        Kota Surabaya, Jawa Timur   \n",
       "3  Rp12.349.000  NaN  Kota Makassar, Sulawesi Selatan   \n",
       "4  Rp12.349.000  NaN  Kota Makassar, Sulawesi Selatan   \n",
       "\n",
       "                                                link extraction_date  \n",
       "0  https://www.blibli.com/p/vga-card-zotac-rtx206...      2021-10-26  \n",
       "1  https://www.blibli.com/p/palit-geforce-rtx-206...      2021-10-26  \n",
       "2  https://www.blibli.com/p/palit-geforce-rtx-206...      2021-10-26  \n",
       "3  https://www.blibli.com/p/vga-colorful-rtx-2060...      2021-10-26  \n",
       "4  https://www.blibli.com/p/vga-colorful-rtx-2060...      2021-10-26  "
      ]
     },
     "execution_count": 13,
     "metadata": {},
     "output_type": "execute_result"
    }
   ],
   "source": [
    "df = df.iloc[: , 1:]\n",
    "df.head()"
   ]
  },
  {
   "cell_type": "code",
   "execution_count": 14,
   "metadata": {},
   "outputs": [
    {
     "data": {
      "text/html": [
       "<div>\n",
       "<style scoped>\n",
       "    .dataframe tbody tr th:only-of-type {\n",
       "        vertical-align: middle;\n",
       "    }\n",
       "\n",
       "    .dataframe tbody tr th {\n",
       "        vertical-align: top;\n",
       "    }\n",
       "\n",
       "    .dataframe thead th {\n",
       "        text-align: right;\n",
       "    }\n",
       "</style>\n",
       "<table border=\"1\" class=\"dataframe\">\n",
       "  <thead>\n",
       "    <tr style=\"text-align: right;\">\n",
       "      <th></th>\n",
       "      <th>marketplace</th>\n",
       "      <th>title</th>\n",
       "      <th>price</th>\n",
       "      <th>sold</th>\n",
       "      <th>city</th>\n",
       "      <th>link</th>\n",
       "      <th>extraction_date</th>\n",
       "    </tr>\n",
       "  </thead>\n",
       "  <tbody>\n",
       "    <tr>\n",
       "      <th>0</th>\n",
       "      <td>blibli</td>\n",
       "      <td>VGA CARD ZOTAC RTX2060 DDR6 6GB 192BIT / VGA R...</td>\n",
       "      <td>Rp10.899.000</td>\n",
       "      <td>NaN</td>\n",
       "      <td>Kota Makassar, Sulawesi Selatan</td>\n",
       "      <td>https://www.blibli.com/p/vga-card-zotac-rtx206...</td>\n",
       "      <td>2021-10-26</td>\n",
       "    </tr>\n",
       "    <tr>\n",
       "      <th>1</th>\n",
       "      <td>blibli</td>\n",
       "      <td>Palit GeForce RTX 2060 GamingPro OC VGA Card [...</td>\n",
       "      <td>Rp35.000.000</td>\n",
       "      <td>NaN</td>\n",
       "      <td>Kota Makassar, Sulawesi Selatan</td>\n",
       "      <td>https://www.blibli.com/p/palit-geforce-rtx-206...</td>\n",
       "      <td>2021-10-26</td>\n",
       "    </tr>\n",
       "    <tr>\n",
       "      <th>2</th>\n",
       "      <td>blibli</td>\n",
       "      <td>Palit GeForce RTX 2060 GamingPro OC VGA Card [...</td>\n",
       "      <td>Rp13.900.000</td>\n",
       "      <td>NaN</td>\n",
       "      <td>Kota Surabaya, Jawa Timur</td>\n",
       "      <td>https://www.blibli.com/p/palit-geforce-rtx-206...</td>\n",
       "      <td>2021-10-26</td>\n",
       "    </tr>\n",
       "    <tr>\n",
       "      <th>3</th>\n",
       "      <td>blibli</td>\n",
       "      <td>Vga Colorful RTX 2060 NB-V 6GB GDDR6 192bit</td>\n",
       "      <td>Rp12.349.000</td>\n",
       "      <td>NaN</td>\n",
       "      <td>Kota Makassar, Sulawesi Selatan</td>\n",
       "      <td>https://www.blibli.com/p/vga-colorful-rtx-2060...</td>\n",
       "      <td>2021-10-26</td>\n",
       "    </tr>\n",
       "    <tr>\n",
       "      <th>4</th>\n",
       "      <td>blibli</td>\n",
       "      <td>Vga Colorful RTX 2060 NB-V 6GB GDDR6 192bit</td>\n",
       "      <td>Rp12.349.000</td>\n",
       "      <td>NaN</td>\n",
       "      <td>Kota Makassar, Sulawesi Selatan</td>\n",
       "      <td>https://www.blibli.com/p/vga-colorful-rtx-2060...</td>\n",
       "      <td>2021-10-26</td>\n",
       "    </tr>\n",
       "    <tr>\n",
       "      <th>5</th>\n",
       "      <td>blibli</td>\n",
       "      <td>MSi RTX 2060 GAMING Z 6G VGA</td>\n",
       "      <td>Rp12.600.000</td>\n",
       "      <td>NaN</td>\n",
       "      <td>Kota Surabaya, Jawa Timur</td>\n",
       "      <td>https://www.blibli.com/p/msi-rtx-2060-gaming-z...</td>\n",
       "      <td>2021-10-26</td>\n",
       "    </tr>\n",
       "    <tr>\n",
       "      <th>6</th>\n",
       "      <td>blibli</td>\n",
       "      <td>MSi RTX 2060 SUPER VENTUS GP OC VGA</td>\n",
       "      <td>Rp15.900.000</td>\n",
       "      <td>NaN</td>\n",
       "      <td>Kota Surabaya, Jawa Timur</td>\n",
       "      <td>https://www.blibli.com/p/msi-rtx-2060-super-ve...</td>\n",
       "      <td>2021-10-26</td>\n",
       "    </tr>\n",
       "    <tr>\n",
       "      <th>7</th>\n",
       "      <td>blibli</td>\n",
       "      <td>VGA Colorful RTX 2060 NB 2V 6GB DDR6 RTX2060 N...</td>\n",
       "      <td>Rp11.100.000</td>\n",
       "      <td>NaN</td>\n",
       "      <td>Kota Surabaya, Jawa Timur</td>\n",
       "      <td>https://www.blibli.com/p/vga-colorful-rtx-2060...</td>\n",
       "      <td>2021-10-26</td>\n",
       "    </tr>\n",
       "    <tr>\n",
       "      <th>8</th>\n",
       "      <td>blibli</td>\n",
       "      <td>Inno3D GeForce RTX 2060 Twin X2 VGA Card [6GB/...</td>\n",
       "      <td>Rp12.500.000</td>\n",
       "      <td>NaN</td>\n",
       "      <td>Kota Surabaya, Jawa Timur</td>\n",
       "      <td>https://www.blibli.com/p/inno3d-geforce-rtx-20...</td>\n",
       "      <td>2021-10-26</td>\n",
       "    </tr>\n",
       "    <tr>\n",
       "      <th>9</th>\n",
       "      <td>blibli</td>\n",
       "      <td>Gigabyte GeForce RTX™ 2060 Gaming OC 6G VGA [G...</td>\n",
       "      <td>Rp13.450.000</td>\n",
       "      <td>NaN</td>\n",
       "      <td>Kota Surabaya, Jawa Timur</td>\n",
       "      <td>https://www.blibli.com/p/gigabyte-geforce-rtx-...</td>\n",
       "      <td>2021-10-26</td>\n",
       "    </tr>\n",
       "  </tbody>\n",
       "</table>\n",
       "</div>"
      ],
      "text/plain": [
       "  marketplace                                              title  \\\n",
       "0      blibli  VGA CARD ZOTAC RTX2060 DDR6 6GB 192BIT / VGA R...   \n",
       "1      blibli  Palit GeForce RTX 2060 GamingPro OC VGA Card [...   \n",
       "2      blibli  Palit GeForce RTX 2060 GamingPro OC VGA Card [...   \n",
       "3      blibli        Vga Colorful RTX 2060 NB-V 6GB GDDR6 192bit   \n",
       "4      blibli        Vga Colorful RTX 2060 NB-V 6GB GDDR6 192bit   \n",
       "5      blibli                       MSi RTX 2060 GAMING Z 6G VGA   \n",
       "6      blibli                MSi RTX 2060 SUPER VENTUS GP OC VGA   \n",
       "7      blibli  VGA Colorful RTX 2060 NB 2V 6GB DDR6 RTX2060 N...   \n",
       "8      blibli  Inno3D GeForce RTX 2060 Twin X2 VGA Card [6GB/...   \n",
       "9      blibli  Gigabyte GeForce RTX™ 2060 Gaming OC 6G VGA [G...   \n",
       "\n",
       "          price sold                             city  \\\n",
       "0  Rp10.899.000  NaN  Kota Makassar, Sulawesi Selatan   \n",
       "1  Rp35.000.000  NaN  Kota Makassar, Sulawesi Selatan   \n",
       "2  Rp13.900.000  NaN        Kota Surabaya, Jawa Timur   \n",
       "3  Rp12.349.000  NaN  Kota Makassar, Sulawesi Selatan   \n",
       "4  Rp12.349.000  NaN  Kota Makassar, Sulawesi Selatan   \n",
       "5  Rp12.600.000  NaN        Kota Surabaya, Jawa Timur   \n",
       "6  Rp15.900.000  NaN        Kota Surabaya, Jawa Timur   \n",
       "7  Rp11.100.000  NaN        Kota Surabaya, Jawa Timur   \n",
       "8  Rp12.500.000  NaN        Kota Surabaya, Jawa Timur   \n",
       "9  Rp13.450.000  NaN        Kota Surabaya, Jawa Timur   \n",
       "\n",
       "                                                link extraction_date  \n",
       "0  https://www.blibli.com/p/vga-card-zotac-rtx206...      2021-10-26  \n",
       "1  https://www.blibli.com/p/palit-geforce-rtx-206...      2021-10-26  \n",
       "2  https://www.blibli.com/p/palit-geforce-rtx-206...      2021-10-26  \n",
       "3  https://www.blibli.com/p/vga-colorful-rtx-2060...      2021-10-26  \n",
       "4  https://www.blibli.com/p/vga-colorful-rtx-2060...      2021-10-26  \n",
       "5  https://www.blibli.com/p/msi-rtx-2060-gaming-z...      2021-10-26  \n",
       "6  https://www.blibli.com/p/msi-rtx-2060-super-ve...      2021-10-26  \n",
       "7  https://www.blibli.com/p/vga-colorful-rtx-2060...      2021-10-26  \n",
       "8  https://www.blibli.com/p/inno3d-geforce-rtx-20...      2021-10-26  \n",
       "9  https://www.blibli.com/p/gigabyte-geforce-rtx-...      2021-10-26  "
      ]
     },
     "execution_count": 14,
     "metadata": {},
     "output_type": "execute_result"
    }
   ],
   "source": []
  },
  {
   "cell_type": "code",
   "execution_count": 19,
   "metadata": {},
   "outputs": [
    {
     "data": {
      "text/plain": [
       "0                            NaN\n",
       "1                            NaN\n",
       "2                            NaN\n",
       "3                            NaN\n",
       "4                            NaN\n",
       "                 ...            \n",
       "295    2 barang berhasil terjual\n",
       "296                          NaN\n",
       "297                          NaN\n",
       "298                          NaN\n",
       "299                          NaN\n",
       "Name: sold, Length: 396, dtype: object"
      ]
     },
     "execution_count": 19,
     "metadata": {},
     "output_type": "execute_result"
    }
   ],
   "source": [
    "sold = df['sold']\n",
    "sold"
   ]
  },
  {
   "cell_type": "code",
   "execution_count": 22,
   "metadata": {},
   "outputs": [],
   "source": [
    "sold = sold.dropna()"
   ]
  },
  {
   "cell_type": "code",
   "execution_count": 25,
   "metadata": {},
   "outputs": [
    {
     "data": {
      "text/plain": [
       "0                              0\n",
       "1                              1\n",
       "2                             14\n",
       "3                             13\n",
       "4                             15\n",
       "                 ...            \n",
       "264    1 barang berhasil terjual\n",
       "273    1 barang berhasil terjual\n",
       "284                    Terjual 5\n",
       "290                    Terjual 4\n",
       "295    2 barang berhasil terjual\n",
       "Name: sold, Length: 144, dtype: object"
      ]
     },
     "execution_count": 25,
     "metadata": {},
     "output_type": "execute_result"
    }
   ],
   "source": [
    "sold"
   ]
  },
  {
   "cell_type": "code",
   "execution_count": 26,
   "metadata": {},
   "outputs": [],
   "source": [
    "price = df['price']"
   ]
  },
  {
   "cell_type": "code",
   "execution_count": 27,
   "metadata": {},
   "outputs": [
    {
     "data": {
      "text/plain": [
       "0      Rp10.899.000\n",
       "1      Rp35.000.000\n",
       "2      Rp13.900.000\n",
       "3      Rp12.349.000\n",
       "4      Rp12.349.000\n",
       "           ...     \n",
       "295    Rp11.350.000\n",
       "296    Rp15.000.000\n",
       "297    Rp43.800.000\n",
       "298    Rp14.252.000\n",
       "299    Rp54.075.000\n",
       "Name: price, Length: 396, dtype: object"
      ]
     },
     "execution_count": 27,
     "metadata": {},
     "output_type": "execute_result"
    }
   ],
   "source": [
    "price"
   ]
  },
  {
   "cell_type": "code",
   "execution_count": 37,
   "metadata": {},
   "outputs": [
    {
     "data": {
      "text/plain": [
       "15"
      ]
     },
     "execution_count": 37,
     "metadata": {},
     "output_type": "execute_result"
    }
   ],
   "source": [
    "test = 'Terjual 15'\n",
    "\n",
    "number = [s for s in test if s.isdigit()]\n",
    "number = int(''.join(number))\n",
    "number\n"
   ]
  },
  {
   "cell_type": "code",
   "execution_count": 31,
   "metadata": {},
   "outputs": [],
   "source": []
  },
  {
   "cell_type": "code",
   "execution_count": 33,
   "metadata": {},
   "outputs": [
    {
     "data": {
      "text/plain": [
       "int"
      ]
     },
     "execution_count": 33,
     "metadata": {},
     "output_type": "execute_result"
    }
   ],
   "source": [
    "type(number)"
   ]
  },
  {
   "cell_type": "code",
   "execution_count": 35,
   "metadata": {},
   "outputs": [
    {
     "data": {
      "text/plain": [
       "10899000"
      ]
     },
     "execution_count": 35,
     "metadata": {},
     "output_type": "execute_result"
    }
   ],
   "source": [
    "price_strings = 'Rp10.899.000'\n",
    "\n",
    "price = [price_string for price_string in price_strings if price_string.isdigit()]\n",
    "price = int(''.join(price))\n",
    "price"
   ]
  },
  {
   "cell_type": "code",
   "execution_count": null,
   "metadata": {},
   "outputs": [],
   "source": []
  }
 ],
 "metadata": {
  "interpreter": {
   "hash": "7c22713cfbae5454d99b042973cb83eb262d6f1a825e1d76f9c854b699a166f8"
  },
  "kernelspec": {
   "display_name": "Python 3.7.6 64-bit ('base': conda)",
   "name": "python3"
  },
  "language_info": {
   "codemirror_mode": {
    "name": "ipython",
    "version": 3
   },
   "file_extension": ".py",
   "mimetype": "text/x-python",
   "name": "python",
   "nbconvert_exporter": "python",
   "pygments_lexer": "ipython3",
   "version": "3.7.6"
  },
  "orig_nbformat": 4
 },
 "nbformat": 4,
 "nbformat_minor": 2
}
